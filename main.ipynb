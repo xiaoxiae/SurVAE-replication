{
 "cells": [
  {
   "cell_type": "code",
   "execution_count": 1,
   "metadata": {},
   "outputs": [],
   "source": [
    "import torch\n",
    "from torch import exp, log, tanh, abs\n",
    "import torch.nn as nn\n",
    "import numpy as np"
   ]
  },
  {
   "cell_type": "code",
   "execution_count": 2,
   "metadata": {},
   "outputs": [],
   "source": [
    "class FFNN(nn.Module):\n",
    "    def __init__(self, in_size:int, layer_sizes:list[int], out_size:int) -> None:\n",
    "        super().__init__()\n",
    "\n",
    "        sizes = [in_size] + list(layer_sizes) + [out_size]\n",
    "        layers = [nn.Linear(sizes[i], sizes[i+1]) for i in range(len(sizes) - 1)]\n",
    "\n",
    "        # splice in ReLU layers\n",
    "        for i in reversed(range(len(layers))):\n",
    "            layers.insert(i, nn.ReLU())\n",
    "        \n",
    "        self.layers = nn.Sequential(*layers)\n",
    "\n",
    "\n",
    "    def forward(self, X:torch.Tensor):\n",
    "        return self.layers(X)"
   ]
  },
  {
   "cell_type": "code",
   "execution_count": 3,
   "metadata": {},
   "outputs": [],
   "source": [
    "class Layer(nn.Module):\n",
    "    def forward(self, X:torch.Tensor, return_likelihood:bool=True):\n",
    "        pass"
   ]
  },
  {
   "cell_type": "code",
   "execution_count": 4,
   "metadata": {},
   "outputs": [],
   "source": [
    "class BijectiveLayer(Layer):\n",
    "    def __init__(self, size:int, hidden_sizes:list[int]) -> None:\n",
    "        assert size > 1, \"Layer size must be at least 2!\"\n",
    "        super().__init__()\n",
    "\n",
    "        self.skip_size = size // 2\n",
    "        self.other_size = size - self.skip_size # TODO: rename 'other' everywhere\n",
    "        self.ffnn = FFNN(self.skip_size, hidden_sizes, self.other_size + 1) # returns t & s\n",
    "    \n",
    "\n",
    "    def forward(self, X:torch.Tensor, return_likelihood:bool=True):\n",
    "        skip_connection  = X[:, :self.skip_size]\n",
    "        other_connection = X[:, self.skip_size:]\n",
    "\n",
    "        coeffs = self.ffnn(skip_connection)\n",
    "        t = coeffs[:, :-1]\n",
    "        pre_s = coeffs[:, -1]\n",
    "        s_log = tanh(pre_s).unsqueeze(1)\n",
    "        s = exp(s_log)\n",
    "\n",
    "        new_connection = s * other_connection + t\n",
    "        Z = torch.cat((skip_connection, new_connection), dim=1)\n",
    "\n",
    "        if return_likelihood:\n",
    "            return Z, abs(s_log)\n",
    "        else:\n",
    "            return Z\n",
    "    \n",
    "\n",
    "    def backward(self, Z:torch.Tensor):\n",
    "        skip_connection  = Z[:, :self.skip_size]\n",
    "        other_connection = Z[:, self.skip_size:]\n",
    "\n",
    "        coeffs = self.ffnn(skip_connection)\n",
    "        t = coeffs[:, :-1]\n",
    "        pre_s = coeffs[:, -1]\n",
    "        s = exp(tanh(pre_s)).unsqueeze(1)\n",
    "\n",
    "        new_connection = (other_connection - t) / s\n",
    "        X = torch.cat((skip_connection, new_connection), dim=1)\n",
    "        return X"
   ]
  },
  {
   "cell_type": "code",
   "execution_count": 6,
   "metadata": {},
   "outputs": [],
   "source": [
    "# testing\n",
    "b = BijectiveLayer(23, (25, 50))\n",
    "\n",
    "for _ in range(1000):\n",
    "    a = torch.rand(300, 23)\n",
    "    assert torch.allclose(a, b.backward(b.forward(a, return_likelihood=False)), atol=1e-5)"
   ]
  },
  {
   "cell_type": "code",
   "execution_count": null,
   "metadata": {},
   "outputs": [],
   "source": []
  }
 ],
 "metadata": {
  "kernelspec": {
   "display_name": "Python 3",
   "language": "python",
   "name": "python3"
  },
  "language_info": {
   "codemirror_mode": {
    "name": "ipython",
    "version": 3
   },
   "file_extension": ".py",
   "mimetype": "text/x-python",
   "name": "python",
   "nbconvert_exporter": "python",
   "pygments_lexer": "ipython3",
   "version": "3.12.1"
  }
 },
 "nbformat": 4,
 "nbformat_minor": 2
}
