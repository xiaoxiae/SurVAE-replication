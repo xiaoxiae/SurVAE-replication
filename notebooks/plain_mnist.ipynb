{
 "cells": [
  {
   "cell_type": "code",
   "execution_count": 1,
   "metadata": {},
   "outputs": [],
   "source": [
    "import torch\n",
    "from matplotlib import pyplot as plt\n",
    "from tqdm import tqdm\n",
    "\n",
    "from survae import SurVAE\n",
    "from survae.calibrate import calc_cs, plot_histogram, plot_cdf\n",
    "from survae.data import *\n",
    "from survae.layer import *\n",
    "\n",
    "import sklearn"
   ]
  },
  {
   "cell_type": "code",
   "execution_count": 31,
   "metadata": {},
   "outputs": [],
   "source": [
    "# load digits\n",
    "digits = sklearn.datasets.load_digits()\n",
    "\n",
    "# convert relevant information\n",
    "X = torch.tensor(digits.data)\n",
    "target = torch.tensor(digits.target)\n",
    "\n",
    "# create one-hot encoding\n",
    "y = torch.zeros((len(X), 10))\n",
    "y[torch.arange(len(X)), target] = 1\n",
    "\n",
    "# shuffle\n",
    "rp = torch.randperm(len(X))\n",
    "X = X[rp]\n",
    "y = y[rp]"
   ]
  },
  {
   "cell_type": "code",
   "execution_count": 109,
   "metadata": {},
   "outputs": [
    {
     "name": "stdout",
     "output_type": "stream",
     "text": [
      "Label: 6\n"
     ]
    },
    {
     "data": {
      "image/png": "[encoded data removed]",
      "text/plain": [
       "<Figure size 400x400 with 1 Axes>"
      ]
     },
     "metadata": {},
     "output_type": "display_data"
    }
   ],
   "source": [
    "# check that the digits were loaded correctly\n",
    "_i = 3\n",
    "plt.figure(figsize=(4, 4))\n",
    "plt.imshow(X[_i].reshape(8, 8).cpu())\n",
    "plt.xticks([])\n",
    "plt.yticks([])\n",
    "print(f\"Label: {y[_i].argmax()}\")"
   ]
  },
  {
   "cell_type": "code",
   "execution_count": 110,
   "metadata": {},
   "outputs": [],
   "source": [
    "# create training subset only consisting of 5's\n",
    "mask = (y.argmax(dim=1) == 5)\n",
    "X_5 = X[mask]\n",
    "y_5 = y[mask]"
   ]
  },
  {
   "cell_type": "code",
   "execution_count": 122,
   "metadata": {},
   "outputs": [],
   "source": [
    "def train(model, X, y, batch_size, epochs, lr=1e-3, log_count=10):\n",
    "    optimizer = torch.optim.Adam(params=model.parameters(), lr=lr)\n",
    "    mse = nn.MSELoss()\n",
    "\n",
    "    for epoch in tqdm(range(epochs)):\n",
    "        optimizer.zero_grad()\n",
    "        r = torch.randperm(len(X))\n",
    "        x_train = X[r][:batch_size]\n",
    "\n",
    "        if y is not None:\n",
    "            y_train = y[r][:batch_size]\n",
    "            z, ll = model(x_train, y_train, return_log_likelihood=True)\n",
    "        else:\n",
    "            z, ll = model(x_train, return_log_likelihood=True)\n",
    "\n",
    "        # # additional reconstruction loss\n",
    "        # x_hat = model.backward(z, y_train)\n",
    "        # loss = (0.5 * torch.sum(z ** 2) - ll + mse_weight * mse(x_train, x_hat)) / batch_size\n",
    "\n",
    "        loss = (0.5 * torch.sum(z ** 2) - ll) / batch_size\n",
    "        loss.backward()\n",
    "\n",
    "        optimizer.step()\n",
    "\n",
    "    print(f\"Final loss: {loss.item():.4f}\")"
   ]
  },
  {
   "cell_type": "code",
   "execution_count": 113,
   "metadata": {},
   "outputs": [],
   "source": [
    "sv_plain = SurVAE(\n",
    "    [\n",
    "        [BijectiveLayer(64, [128]), OrthonormalLayer(64)]\n",
    "        for _ in range(8)\n",
    "    ],\n",
    "    \"NF\"\n",
    ")"
   ]
  },
  {
   "cell_type": "code",
   "execution_count": 120,
   "metadata": {},
   "outputs": [],
   "source": [
    "sv_bottleneck = SurVAE(\n",
    "    [\n",
    "        [BijectiveLayer(64, [128]), OrthonormalLayer(64)]\n",
    "        for _ in range(8)\n",
    "    ] + [\n",
    "        SliceLayer(64, 8)\n",
    "    ],\n",
    "    \"NF-bottleneck\"\n",
    ")"
   ]
  },
  {
   "cell_type": "code",
   "execution_count": 123,
   "metadata": {},
   "outputs": [
    {
     "name": "stderr",
     "output_type": "stream",
     "text": [
      "100%|██████████| 100/100 [00:03<00:00, 26.55it/s]"
     ]
    },
    {
     "name": "stdout",
     "output_type": "stream",
     "text": [
      "Final loss: 0.6919\n"
     ]
    },
    {
     "name": "stderr",
     "output_type": "stream",
     "text": [
      "\n"
     ]
    }
   ],
   "source": [
    "train(\n",
    "    sv_plain,\n",
    "    X_5,\n",
    "    None,\n",
    "    batch_size=1000,\n",
    "    epochs=100\n",
    ")"
   ]
  },
  {
   "cell_type": "code",
   "execution_count": 131,
   "metadata": {},
   "outputs": [
    {
     "name": "stderr",
     "output_type": "stream",
     "text": [
      "100%|██████████| 8000/8000 [03:51<00:00, 34.62it/s]"
     ]
    },
    {
     "name": "stdout",
     "output_type": "stream",
     "text": [
      "Final loss: -0.2304\n"
     ]
    },
    {
     "name": "stderr",
     "output_type": "stream",
     "text": [
      "\n"
     ]
    }
   ],
   "source": [
    "train(\n",
    "    sv_bottleneck,\n",
    "    X_5,\n",
    "    None,\n",
    "    batch_size=1000,\n",
    "    epochs=8000\n",
    ")"
   ]
  },
  {
   "cell_type": "code",
   "execution_count": 132,
   "metadata": {},
   "outputs": [],
   "source": [
    "n_samples = 20\n",
    "\n",
    "# sample conditional network\n",
    "# # target_sample = (torch.rand(n_samples) * 10).int()\n",
    "# target_sample = torch.tensor([5] * n_samples) # only sample 5's\n",
    "# y_sample = torch.zeros((n_samples, 10))\n",
    "# y_sample[torch.arange(n_samples), target_sample] = 1\n",
    "# X_sample = sv_plain.sample(n_samples, y_sample)\n",
    "\n",
    "\n",
    "# sample unconditional network\n",
    "X_sample = sv_bottleneck.sample(n_samples)"
   ]
  },
  {
   "cell_type": "code",
   "execution_count": 133,
   "metadata": {},
   "outputs": [
    {
     "data": {
      "image/png": "[encoded data removed]",
      "text/plain": [
       "<Figure size 1000x800 with 20 Axes>"
      ]
     },
     "metadata": {},
     "output_type": "display_data"
    }
   ],
   "source": [
    "nrows = 4\n",
    "ncols = 5\n",
    "\n",
    "fig, ax = plt.subplots(nrows, ncols, figsize=(2 * ncols, 2 * nrows))\n",
    "\n",
    "for i in range(ncols):\n",
    "    for k in range(nrows):\n",
    "        _i = i + ncols * k\n",
    "        _ax = ax[k][i]\n",
    "        _ax.imshow(X_sample[_i].reshape(8, 8).cpu())\n",
    "        if 'y_sample' in locals():\n",
    "            _ax.set_title(f\"Label: {y_sample[_i].argmax()}\")\n",
    "        _ax.set_xticks([])\n",
    "        _ax.set_yticks([])\n",
    "plt.tight_layout()"
   ]
  },
  {
   "cell_type": "code",
   "execution_count": null,
   "metadata": {},
   "outputs": [],
   "source": []
  }
 ],
 "metadata": {
  "kernelspec": {
   "display_name": "Python 3",
   "language": "python",
   "name": "python3"
  },
  "language_info": {
   "codemirror_mode": {
    "name": "ipython",
    "version": 3
   },
   "file_extension": ".py",
   "mimetype": "text/x-python",
   "name": "python",
   "nbconvert_exporter": "python",
   "pygments_lexer": "ipython3",
   "version": "3.12.1"
  }
 },
 "nbformat": 4,
 "nbformat_minor": 2
}
