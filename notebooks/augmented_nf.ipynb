{
 "cells": [
  {
   "cell_type": "code",
   "execution_count": 1,
   "metadata": {
    "ExecuteTime": {
     "end_time": "2024-03-07T19:27:16.530746594Z",
     "start_time": "2024-03-07T19:27:14.190724074Z"
    }
   },
   "outputs": [],
   "source": [
    "import torch\n",
    "\n",
    "from survae import SurVAE\n",
    "from survae.data import ngon, Dataset, moons, spiral, split_line\n",
    "from survae.layer import BijectiveLayer, AbsoluteUnit, OrthonormalLayer, Augment\n",
    "from survae.plot import plot_models, plot_losses\n",
    "from survae.train import train_models"
   ]
  },
  {
   "cell_type": "code",
   "outputs": [],
   "source": [
    "model_generators = [\n",
    "    lambda: SurVAE(\n",
    "        [\n",
    "            BijectiveLayer(2, [64] * 5), OrthonormalLayer(2),\n",
    "            BijectiveLayer(2, [64] * 5), OrthonormalLayer(2),\n",
    "            BijectiveLayer(2, [64] * 5), OrthonormalLayer(2),\n",
    "            BijectiveLayer(2, [64] * 5),\n",
    "        ],\n",
    "        name=\"NF\",\n",
    "    ),\n",
    "    lambda: SurVAE(\n",
    "        [\n",
    "            Augment(2, 4),\n",
    "            BijectiveLayer(4, [64] * 5), OrthonormalLayer(4),\n",
    "            BijectiveLayer(4, [64] * 5), OrthonormalLayer(4),\n",
    "            BijectiveLayer(4, [64] * 5), OrthonormalLayer(4),\n",
    "            BijectiveLayer(4, [64] * 5),\n",
    "        ],\n",
    "        name=\"NF-augmented\",\n",
    "    ),\n",
    "    lambda: SurVAE(\n",
    "        [\n",
    "            Augment(2, 4),\n",
    "            BijectiveLayer(4, [64] * 5), OrthonormalLayer(4),\n",
    "            BijectiveLayer(4, [64] * 5),\n",
    "            AbsoluteUnit(torch.tensor([0.5] * 4)),\n",
    "            BijectiveLayer(4, [64] * 5), OrthonormalLayer(4),\n",
    "            BijectiveLayer(4, [64] * 5),\n",
    "        ],\n",
    "        name=\"NF-augmented-abs\",\n",
    "    ),\n",
    "]"
   ],
   "metadata": {
    "collapsed": false,
    "ExecuteTime": {
     "end_time": "2024-03-07T19:27:16.539047487Z",
     "start_time": "2024-03-07T19:27:16.533537410Z"
    }
   },
   "execution_count": 2
  },
  {
   "cell_type": "code",
   "outputs": [],
   "source": [
    "datasets = [\n",
    "    Dataset(moons, name=\"Moons\"),\n",
    "    Dataset(spiral, name=\"Spiral\"),\n",
    "    Dataset(ngon, name=\"N-gon\"),\n",
    "    Dataset(split_line, name=\"Split Line\"),\n",
    "]"
   ],
   "metadata": {
    "collapsed": false,
    "ExecuteTime": {
     "end_time": "2024-03-07T19:27:16.558985890Z",
     "start_time": "2024-03-07T19:27:16.537641695Z"
    }
   },
   "execution_count": 3
  },
  {
   "cell_type": "code",
   "outputs": [
    {
     "name": "stderr",
     "output_type": "stream",
     "text": [
      " 58%|█████▊    | 7/12 [24:52<18:09, 217.95s/it]"
     ]
    }
   ],
   "source": [
    "models = train_models(model_generators, datasets, epochs=10_000)"
   ],
   "metadata": {
    "collapsed": false,
    "is_executing": true,
    "ExecuteTime": {
     "start_time": "2024-03-07T19:27:16.554982546Z"
    }
   },
   "execution_count": null
  },
  {
   "cell_type": "code",
   "outputs": [],
   "source": [
    "plot_models(models, datasets)"
   ],
   "metadata": {
    "collapsed": false,
    "is_executing": true
   },
   "execution_count": null
  },
  {
   "cell_type": "code",
   "outputs": [],
   "source": [
    "plot_losses(models, datasets)"
   ],
   "metadata": {
    "collapsed": false,
    "is_executing": true
   },
   "execution_count": null
  }
 ],
 "metadata": {
  "kernelspec": {
   "display_name": "Python 3",
   "language": "python",
   "name": "python3"
  },
  "language_info": {
   "codemirror_mode": {
    "name": "ipython",
    "version": 3
   },
   "file_extension": ".py",
   "mimetype": "text/x-python",
   "name": "python",
   "nbconvert_exporter": "python",
   "pygments_lexer": "ipython3",
   "version": "3.11.3"
  }
 },
 "nbformat": 4,
 "nbformat_minor": 2
}
