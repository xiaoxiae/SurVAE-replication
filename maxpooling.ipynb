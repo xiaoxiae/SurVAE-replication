{
 "cells": [
  {
   "cell_type": "code",
   "execution_count": 1,
   "metadata": {},
   "outputs": [],
   "source": [
    "import numpy as np\n",
    "import torch\n",
    "import matplotlib.pyplot as plt\n",
    "from tqdm import tqdm\n",
    "\n",
    "from survae import SurVAE, DEVICE\n",
    "from survae.data import MNIST_784\n",
    "from survae.layer import *\n",
    "from survae.calibrate import *"
   ]
  },
  {
   "cell_type": "code",
   "execution_count": 2,
   "metadata": {},
   "outputs": [
    {
     "ename": "KeyboardInterrupt",
     "evalue": "",
     "output_type": "error",
     "traceback": [
      "\u001b[1;31m---------------------------------------------------------------------------\u001b[0m",
      "\u001b[1;31mKeyboardInterrupt\u001b[0m                         Traceback (most recent call last)",
      "Cell \u001b[1;32mIn[2], line 1\u001b[0m\n\u001b[1;32m----> 1\u001b[0m mnist \u001b[38;5;241m=\u001b[39m \u001b[43mMNIST_784\u001b[49m\u001b[43m(\u001b[49m\u001b[43m)\u001b[49m\n",
      "File \u001b[1;32mc:\\Users\\Jannis\\Documents\\GitHub\\GNNFinal2024\\survae\\data.py:295\u001b[0m, in \u001b[0;36mMNIST_784.__init__\u001b[1;34m(self, **kwargs)\u001b[0m\n\u001b[0;32m    292\u001b[0m \u001b[38;5;28msuper\u001b[39m()\u001b[38;5;241m.\u001b[39m\u001b[38;5;21m__init__\u001b[39m(\u001b[38;5;241m*\u001b[39m\u001b[38;5;241m*\u001b[39mkwargs)\n\u001b[0;32m    294\u001b[0m \u001b[38;5;66;03m# immediately load the dataset for later use\u001b[39;00m\n\u001b[1;32m--> 295\u001b[0m mnist \u001b[38;5;241m=\u001b[39m \u001b[43mfetch_openml\u001b[49m\u001b[43m(\u001b[49m\u001b[38;5;124;43m'\u001b[39;49m\u001b[38;5;124;43mmnist_784\u001b[39;49m\u001b[38;5;124;43m'\u001b[39;49m\u001b[43m,\u001b[49m\u001b[43m \u001b[49m\u001b[43mparser\u001b[49m\u001b[38;5;241;43m=\u001b[39;49m\u001b[38;5;124;43m'\u001b[39;49m\u001b[38;5;124;43mauto\u001b[39;49m\u001b[38;5;124;43m'\u001b[39;49m\u001b[43m,\u001b[49m\u001b[43m \u001b[49m\u001b[43mcache\u001b[49m\u001b[38;5;241;43m=\u001b[39;49m\u001b[38;5;28;43;01mTrue\u001b[39;49;00m\u001b[43m)\u001b[49m\n\u001b[0;32m    297\u001b[0m \u001b[38;5;28mself\u001b[39m\u001b[38;5;241m.\u001b[39mmnist_images \u001b[38;5;241m=\u001b[39m torch\u001b[38;5;241m.\u001b[39mtensor(np\u001b[38;5;241m.\u001b[39marray(mnist\u001b[38;5;241m.\u001b[39mdata)) \u001b[38;5;241m/\u001b[39m \u001b[38;5;241m256\u001b[39m\n\u001b[0;32m    298\u001b[0m \u001b[38;5;28mself\u001b[39m\u001b[38;5;241m.\u001b[39mmnist_labels \u001b[38;5;241m=\u001b[39m torch\u001b[38;5;241m.\u001b[39mtensor(mnist\u001b[38;5;241m.\u001b[39mtarget\u001b[38;5;241m.\u001b[39mastype(\u001b[38;5;28mint\u001b[39m))\n",
      "File \u001b[1;32mc:\\Users\\Jannis\\AppData\\Local\\Programs\\Python\\Python312\\Lib\\site-packages\\sklearn\\utils\\_param_validation.py:214\u001b[0m, in \u001b[0;36mvalidate_params.<locals>.decorator.<locals>.wrapper\u001b[1;34m(*args, **kwargs)\u001b[0m\n\u001b[0;32m    208\u001b[0m \u001b[38;5;28;01mtry\u001b[39;00m:\n\u001b[0;32m    209\u001b[0m     \u001b[38;5;28;01mwith\u001b[39;00m config_context(\n\u001b[0;32m    210\u001b[0m         skip_parameter_validation\u001b[38;5;241m=\u001b[39m(\n\u001b[0;32m    211\u001b[0m             prefer_skip_nested_validation \u001b[38;5;129;01mor\u001b[39;00m global_skip_validation\n\u001b[0;32m    212\u001b[0m         )\n\u001b[0;32m    213\u001b[0m     ):\n\u001b[1;32m--> 214\u001b[0m         \u001b[38;5;28;01mreturn\u001b[39;00m \u001b[43mfunc\u001b[49m\u001b[43m(\u001b[49m\u001b[38;5;241;43m*\u001b[39;49m\u001b[43margs\u001b[49m\u001b[43m,\u001b[49m\u001b[43m \u001b[49m\u001b[38;5;241;43m*\u001b[39;49m\u001b[38;5;241;43m*\u001b[39;49m\u001b[43mkwargs\u001b[49m\u001b[43m)\u001b[49m\n\u001b[0;32m    215\u001b[0m \u001b[38;5;28;01mexcept\u001b[39;00m InvalidParameterError \u001b[38;5;28;01mas\u001b[39;00m e:\n\u001b[0;32m    216\u001b[0m     \u001b[38;5;66;03m# When the function is just a wrapper around an estimator, we allow\u001b[39;00m\n\u001b[0;32m    217\u001b[0m     \u001b[38;5;66;03m# the function to delegate validation to the estimator, but we replace\u001b[39;00m\n\u001b[0;32m    218\u001b[0m     \u001b[38;5;66;03m# the name of the estimator by the name of the function in the error\u001b[39;00m\n\u001b[0;32m    219\u001b[0m     \u001b[38;5;66;03m# message to avoid confusion.\u001b[39;00m\n\u001b[0;32m    220\u001b[0m     msg \u001b[38;5;241m=\u001b[39m re\u001b[38;5;241m.\u001b[39msub(\n\u001b[0;32m    221\u001b[0m         \u001b[38;5;124mr\u001b[39m\u001b[38;5;124m\"\u001b[39m\u001b[38;5;124mparameter of \u001b[39m\u001b[38;5;124m\\\u001b[39m\u001b[38;5;124mw+ must be\u001b[39m\u001b[38;5;124m\"\u001b[39m,\n\u001b[0;32m    222\u001b[0m         \u001b[38;5;124mf\u001b[39m\u001b[38;5;124m\"\u001b[39m\u001b[38;5;124mparameter of \u001b[39m\u001b[38;5;132;01m{\u001b[39;00mfunc\u001b[38;5;241m.\u001b[39m\u001b[38;5;18m__qualname__\u001b[39m\u001b[38;5;132;01m}\u001b[39;00m\u001b[38;5;124m must be\u001b[39m\u001b[38;5;124m\"\u001b[39m,\n\u001b[0;32m    223\u001b[0m         \u001b[38;5;28mstr\u001b[39m(e),\n\u001b[0;32m    224\u001b[0m     )\n",
      "File \u001b[1;32mc:\\Users\\Jannis\\AppData\\Local\\Programs\\Python\\Python312\\Lib\\site-packages\\sklearn\\datasets\\_openml.py:1128\u001b[0m, in \u001b[0;36mfetch_openml\u001b[1;34m(name, version, data_id, data_home, target_column, cache, return_X_y, as_frame, n_retries, delay, parser, read_csv_kwargs)\u001b[0m\n\u001b[0;32m   1126\u001b[0m \u001b[38;5;66;03m# obtain the data\u001b[39;00m\n\u001b[0;32m   1127\u001b[0m url \u001b[38;5;241m=\u001b[39m _DATA_FILE\u001b[38;5;241m.\u001b[39mformat(data_description[\u001b[38;5;124m\"\u001b[39m\u001b[38;5;124mfile_id\u001b[39m\u001b[38;5;124m\"\u001b[39m])\n\u001b[1;32m-> 1128\u001b[0m bunch \u001b[38;5;241m=\u001b[39m \u001b[43m_download_data_to_bunch\u001b[49m\u001b[43m(\u001b[49m\n\u001b[0;32m   1129\u001b[0m \u001b[43m    \u001b[49m\u001b[43murl\u001b[49m\u001b[43m,\u001b[49m\n\u001b[0;32m   1130\u001b[0m \u001b[43m    \u001b[49m\u001b[43mreturn_sparse\u001b[49m\u001b[43m,\u001b[49m\n\u001b[0;32m   1131\u001b[0m \u001b[43m    \u001b[49m\u001b[43mdata_home\u001b[49m\u001b[43m,\u001b[49m\n\u001b[0;32m   1132\u001b[0m \u001b[43m    \u001b[49m\u001b[43mas_frame\u001b[49m\u001b[38;5;241;43m=\u001b[39;49m\u001b[38;5;28;43mbool\u001b[39;49m\u001b[43m(\u001b[49m\u001b[43mas_frame\u001b[49m\u001b[43m)\u001b[49m\u001b[43m,\u001b[49m\n\u001b[0;32m   1133\u001b[0m \u001b[43m    \u001b[49m\u001b[43mopenml_columns_info\u001b[49m\u001b[38;5;241;43m=\u001b[39;49m\u001b[43mfeatures_list\u001b[49m\u001b[43m,\u001b[49m\n\u001b[0;32m   1134\u001b[0m \u001b[43m    \u001b[49m\u001b[43mshape\u001b[49m\u001b[38;5;241;43m=\u001b[39;49m\u001b[43mshape\u001b[49m\u001b[43m,\u001b[49m\n\u001b[0;32m   1135\u001b[0m \u001b[43m    \u001b[49m\u001b[43mtarget_columns\u001b[49m\u001b[38;5;241;43m=\u001b[39;49m\u001b[43mtarget_columns\u001b[49m\u001b[43m,\u001b[49m\n\u001b[0;32m   1136\u001b[0m \u001b[43m    \u001b[49m\u001b[43mdata_columns\u001b[49m\u001b[38;5;241;43m=\u001b[39;49m\u001b[43mdata_columns\u001b[49m\u001b[43m,\u001b[49m\n\u001b[0;32m   1137\u001b[0m \u001b[43m    \u001b[49m\u001b[43mmd5_checksum\u001b[49m\u001b[38;5;241;43m=\u001b[39;49m\u001b[43mdata_description\u001b[49m\u001b[43m[\u001b[49m\u001b[38;5;124;43m\"\u001b[39;49m\u001b[38;5;124;43mmd5_checksum\u001b[39;49m\u001b[38;5;124;43m\"\u001b[39;49m\u001b[43m]\u001b[49m\u001b[43m,\u001b[49m\n\u001b[0;32m   1138\u001b[0m \u001b[43m    \u001b[49m\u001b[43mn_retries\u001b[49m\u001b[38;5;241;43m=\u001b[39;49m\u001b[43mn_retries\u001b[49m\u001b[43m,\u001b[49m\n\u001b[0;32m   1139\u001b[0m \u001b[43m    \u001b[49m\u001b[43mdelay\u001b[49m\u001b[38;5;241;43m=\u001b[39;49m\u001b[43mdelay\u001b[49m\u001b[43m,\u001b[49m\n\u001b[0;32m   1140\u001b[0m \u001b[43m    \u001b[49m\u001b[43mparser\u001b[49m\u001b[38;5;241;43m=\u001b[39;49m\u001b[43mparser_\u001b[49m\u001b[43m,\u001b[49m\n\u001b[0;32m   1141\u001b[0m \u001b[43m    \u001b[49m\u001b[43mread_csv_kwargs\u001b[49m\u001b[38;5;241;43m=\u001b[39;49m\u001b[43mread_csv_kwargs\u001b[49m\u001b[43m,\u001b[49m\n\u001b[0;32m   1142\u001b[0m \u001b[43m\u001b[49m\u001b[43m)\u001b[49m\n\u001b[0;32m   1144\u001b[0m \u001b[38;5;28;01mif\u001b[39;00m return_X_y:\n\u001b[0;32m   1145\u001b[0m     \u001b[38;5;28;01mreturn\u001b[39;00m bunch\u001b[38;5;241m.\u001b[39mdata, bunch\u001b[38;5;241m.\u001b[39mtarget\n",
      "File \u001b[1;32mc:\\Users\\Jannis\\AppData\\Local\\Programs\\Python\\Python312\\Lib\\site-packages\\sklearn\\datasets\\_openml.py:677\u001b[0m, in \u001b[0;36m_download_data_to_bunch\u001b[1;34m(url, sparse, data_home, as_frame, openml_columns_info, data_columns, target_columns, shape, md5_checksum, n_retries, delay, parser, read_csv_kwargs)\u001b[0m\n\u001b[0;32m    673\u001b[0m     \u001b[38;5;28;01mfrom\u001b[39;00m \u001b[38;5;21;01mpandas\u001b[39;00m\u001b[38;5;21;01m.\u001b[39;00m\u001b[38;5;21;01merrors\u001b[39;00m \u001b[38;5;28;01mimport\u001b[39;00m ParserError\n\u001b[0;32m    675\u001b[0m     no_retry_exception \u001b[38;5;241m=\u001b[39m ParserError\n\u001b[1;32m--> 677\u001b[0m X, y, frame, categories \u001b[38;5;241m=\u001b[39m \u001b[43m_retry_with_clean_cache\u001b[49m\u001b[43m(\u001b[49m\n\u001b[0;32m    678\u001b[0m \u001b[43m    \u001b[49m\u001b[43murl\u001b[49m\u001b[43m,\u001b[49m\u001b[43m \u001b[49m\u001b[43mdata_home\u001b[49m\u001b[43m,\u001b[49m\u001b[43m \u001b[49m\u001b[43mno_retry_exception\u001b[49m\n\u001b[0;32m    679\u001b[0m \u001b[43m\u001b[49m\u001b[43m)\u001b[49m\u001b[43m(\u001b[49m\u001b[43m_load_arff_response\u001b[49m\u001b[43m)\u001b[49m\u001b[43m(\u001b[49m\n\u001b[0;32m    680\u001b[0m \u001b[43m    \u001b[49m\u001b[43murl\u001b[49m\u001b[43m,\u001b[49m\n\u001b[0;32m    681\u001b[0m \u001b[43m    \u001b[49m\u001b[43mdata_home\u001b[49m\u001b[43m,\u001b[49m\n\u001b[0;32m    682\u001b[0m \u001b[43m    \u001b[49m\u001b[43mparser\u001b[49m\u001b[38;5;241;43m=\u001b[39;49m\u001b[43mparser\u001b[49m\u001b[43m,\u001b[49m\n\u001b[0;32m    683\u001b[0m \u001b[43m    \u001b[49m\u001b[43moutput_type\u001b[49m\u001b[38;5;241;43m=\u001b[39;49m\u001b[43moutput_type\u001b[49m\u001b[43m,\u001b[49m\n\u001b[0;32m    684\u001b[0m \u001b[43m    \u001b[49m\u001b[43mopenml_columns_info\u001b[49m\u001b[38;5;241;43m=\u001b[39;49m\u001b[43mfeatures_dict\u001b[49m\u001b[43m,\u001b[49m\n\u001b[0;32m    685\u001b[0m \u001b[43m    \u001b[49m\u001b[43mfeature_names_to_select\u001b[49m\u001b[38;5;241;43m=\u001b[39;49m\u001b[43mdata_columns\u001b[49m\u001b[43m,\u001b[49m\n\u001b[0;32m    686\u001b[0m \u001b[43m    \u001b[49m\u001b[43mtarget_names_to_select\u001b[49m\u001b[38;5;241;43m=\u001b[39;49m\u001b[43mtarget_columns\u001b[49m\u001b[43m,\u001b[49m\n\u001b[0;32m    687\u001b[0m \u001b[43m    \u001b[49m\u001b[43mshape\u001b[49m\u001b[38;5;241;43m=\u001b[39;49m\u001b[43mshape\u001b[49m\u001b[43m,\u001b[49m\n\u001b[0;32m    688\u001b[0m \u001b[43m    \u001b[49m\u001b[43mmd5_checksum\u001b[49m\u001b[38;5;241;43m=\u001b[39;49m\u001b[43mmd5_checksum\u001b[49m\u001b[43m,\u001b[49m\n\u001b[0;32m    689\u001b[0m \u001b[43m    \u001b[49m\u001b[43mn_retries\u001b[49m\u001b[38;5;241;43m=\u001b[39;49m\u001b[43mn_retries\u001b[49m\u001b[43m,\u001b[49m\n\u001b[0;32m    690\u001b[0m \u001b[43m    \u001b[49m\u001b[43mdelay\u001b[49m\u001b[38;5;241;43m=\u001b[39;49m\u001b[43mdelay\u001b[49m\u001b[43m,\u001b[49m\n\u001b[0;32m    691\u001b[0m \u001b[43m    \u001b[49m\u001b[43mread_csv_kwargs\u001b[49m\u001b[38;5;241;43m=\u001b[39;49m\u001b[43mread_csv_kwargs\u001b[49m\u001b[43m,\u001b[49m\n\u001b[0;32m    692\u001b[0m \u001b[43m\u001b[49m\u001b[43m)\u001b[49m\n\u001b[0;32m    694\u001b[0m \u001b[38;5;28;01mreturn\u001b[39;00m Bunch(\n\u001b[0;32m    695\u001b[0m     data\u001b[38;5;241m=\u001b[39mX,\n\u001b[0;32m    696\u001b[0m     target\u001b[38;5;241m=\u001b[39my,\n\u001b[1;32m   (...)\u001b[0m\n\u001b[0;32m    700\u001b[0m     target_names\u001b[38;5;241m=\u001b[39mtarget_columns,\n\u001b[0;32m    701\u001b[0m )\n",
      "File \u001b[1;32mc:\\Users\\Jannis\\AppData\\Local\\Programs\\Python\\Python312\\Lib\\site-packages\\sklearn\\datasets\\_openml.py:67\u001b[0m, in \u001b[0;36m_retry_with_clean_cache.<locals>.decorator.<locals>.wrapper\u001b[1;34m(*args, **kw)\u001b[0m\n\u001b[0;32m     65\u001b[0m     \u001b[38;5;28;01mreturn\u001b[39;00m f(\u001b[38;5;241m*\u001b[39margs, \u001b[38;5;241m*\u001b[39m\u001b[38;5;241m*\u001b[39mkw)\n\u001b[0;32m     66\u001b[0m \u001b[38;5;28;01mtry\u001b[39;00m:\n\u001b[1;32m---> 67\u001b[0m     \u001b[38;5;28;01mreturn\u001b[39;00m \u001b[43mf\u001b[49m\u001b[43m(\u001b[49m\u001b[38;5;241;43m*\u001b[39;49m\u001b[43margs\u001b[49m\u001b[43m,\u001b[49m\u001b[43m \u001b[49m\u001b[38;5;241;43m*\u001b[39;49m\u001b[38;5;241;43m*\u001b[39;49m\u001b[43mkw\u001b[49m\u001b[43m)\u001b[49m\n\u001b[0;32m     68\u001b[0m \u001b[38;5;28;01mexcept\u001b[39;00m URLError:\n\u001b[0;32m     69\u001b[0m     \u001b[38;5;28;01mraise\u001b[39;00m\n",
      "File \u001b[1;32mc:\\Users\\Jannis\\AppData\\Local\\Programs\\Python\\Python312\\Lib\\site-packages\\sklearn\\datasets\\_openml.py:516\u001b[0m, in \u001b[0;36m_load_arff_response\u001b[1;34m(url, data_home, parser, output_type, openml_columns_info, feature_names_to_select, target_names_to_select, shape, md5_checksum, n_retries, delay, read_csv_kwargs)\u001b[0m\n\u001b[0;32m    514\u001b[0m     md5 \u001b[38;5;241m=\u001b[39m hashlib\u001b[38;5;241m.\u001b[39mmd5()\n\u001b[0;32m    515\u001b[0m     \u001b[38;5;28;01mfor\u001b[39;00m chunk \u001b[38;5;129;01min\u001b[39;00m \u001b[38;5;28miter\u001b[39m(\u001b[38;5;28;01mlambda\u001b[39;00m: gzip_file\u001b[38;5;241m.\u001b[39mread(\u001b[38;5;241m4096\u001b[39m), \u001b[38;5;124mb\u001b[39m\u001b[38;5;124m\"\u001b[39m\u001b[38;5;124m\"\u001b[39m):\n\u001b[1;32m--> 516\u001b[0m         \u001b[43mmd5\u001b[49m\u001b[38;5;241;43m.\u001b[39;49m\u001b[43mupdate\u001b[49m\u001b[43m(\u001b[49m\u001b[43mchunk\u001b[49m\u001b[43m)\u001b[49m\n\u001b[0;32m    517\u001b[0m     actual_md5_checksum \u001b[38;5;241m=\u001b[39m md5\u001b[38;5;241m.\u001b[39mhexdigest()\n\u001b[0;32m    519\u001b[0m \u001b[38;5;28;01mif\u001b[39;00m actual_md5_checksum \u001b[38;5;241m!=\u001b[39m md5_checksum:\n",
      "\u001b[1;31mKeyboardInterrupt\u001b[0m: "
     ]
    }
   ],
   "source": [
    "mnist = MNIST_784()"
   ]
  },
  {
   "cell_type": "code",
   "execution_count": 4,
   "metadata": {},
   "outputs": [
    {
     "ename": "NameError",
     "evalue": "name 'mnist' is not defined",
     "output_type": "error",
     "traceback": [
      "\u001b[1;31m---------------------------------------------------------------------------\u001b[0m",
      "\u001b[1;31mNameError\u001b[0m                                 Traceback (most recent call last)",
      "Cell \u001b[1;32mIn[4], line 1\u001b[0m\n\u001b[1;32m----> 1\u001b[0m X \u001b[38;5;241m=\u001b[39m \u001b[43mmnist\u001b[49m\u001b[38;5;241m.\u001b[39msample(\u001b[38;5;241m5\u001b[39m)\n",
      "\u001b[1;31mNameError\u001b[0m: name 'mnist' is not defined"
     ]
    }
   ],
   "source": [
    "X = mnist.sample(5)"
   ]
  },
  {
   "cell_type": "code",
   "execution_count": 5,
   "metadata": {},
   "outputs": [
    {
     "data": {
      "text/plain": [
       "torch.Size([5, 784])"
      ]
     },
     "execution_count": 5,
     "metadata": {},
     "output_type": "execute_result"
    }
   ],
   "source": [
    "X.shape"
   ]
  },
  {
   "cell_type": "code",
   "execution_count": 7,
   "metadata": {},
   "outputs": [
    {
     "data": {
      "text/plain": [
       "torch.Size([5, 49])"
      ]
     },
     "execution_count": 7,
     "metadata": {},
     "output_type": "execute_result"
    }
   ],
   "source": [
    "sv_maxpool(X).shape"
   ]
  },
  {
   "cell_type": "code",
   "execution_count": 5,
   "metadata": {},
   "outputs": [],
   "source": [
    "Y = torch.arange(28*28*2, dtype=torch.double).reshape(2, 28*28)\n",
    "# Y = torch.arange(5*2*2, dtype=torch.double).reshape(5, 2, 2)"
   ]
  },
  {
   "cell_type": "code",
   "execution_count": 20,
   "metadata": {},
   "outputs": [],
   "source": [
    "class MaxPoolingLayer(Layer):\n",
    "    '''\n",
    "    MaxPoolingLayer: Layer that performs max pooling on the input data.\n",
    "\n",
    "    size: input size, i.e. flattened picture\n",
    "    width: input width, i.e. the width of the picture, sqrt of size\n",
    "\n",
    "    out_width: width of the output picture, sqrt of out_size\n",
    "    out_size: size of flattened output picture\n",
    "\n",
    "    stride: the stride of the max pooling operation \n",
    "\n",
    "    Distribution choices: \n",
    "        - standard half-normal distribution (default)\n",
    "        - exponential distribution \n",
    "\n",
    "    '''\n",
    "    def __init__(self, size: int, stride: int, exponential_distribution: bool = False, learn_distribution_parameter: bool = False):\n",
    "        super().__init__()\n",
    "\n",
    "        self.width = np.sqrt(size).astype(int) \n",
    "\n",
    "        assert self.width % stride == 0, \"Stride must be a divisor of size!\"\n",
    "        self.stride = stride\n",
    "\n",
    "        self.out_width = int(self.width / self.stride)\n",
    "\n",
    "        \n",
    "        if exponential_distribution:\n",
    "            self.distribution = \"exponential\"\n",
    "            lam = torch.tensor([0.1])\n",
    "            if learn_distribution_parameter:\n",
    "                lam = nn.Parameter(lam)\n",
    "            self.lam = lam\n",
    "        else:\n",
    "            self.distribution = \"half-normal\"\n",
    "            sigma = 1\n",
    "            if learn_distribution_parameter:\n",
    "                sigma = nn.Parameter(sigma)\n",
    "            self.sigma = sigma\n",
    "\n",
    "\n",
    "        self.index_probs = torch.tensor([1 / self.stride**2 for _ in range(self.stride**2)])\n",
    "\n",
    "\n",
    "    def forward(self, X: torch.Tensor, condition: torch.Tensor | None = None, return_log_likelihood: bool = False):\n",
    "\n",
    "        X = X.view(-1, self.width, self.width) # reshape to 2D\n",
    "        \n",
    "        l = []\n",
    "        for i in range(self.stride):\n",
    "            for j in range(self.stride):\n",
    "                l.append(X[:, i::self.stride,j::self.stride])\n",
    "\n",
    "        combined_tensor = torch.stack(l, dim=0)\n",
    "        Z, _ = torch.max(combined_tensor, dim=0)\n",
    "        # return Z.view(-1)\n",
    "        return Z.flatten(start_dim=1)\n",
    "\n",
    "    def backward(self, Z: torch.Tensor, condition: torch.Tensor | None = None):\n",
    "        Z = Z.view(-1, self.out_width, self.out_width)\n",
    "        \n",
    "        # expand matrix containing local maxima (by repeating local max)\n",
    "        X_hat = Z.repeat_interleave(self.stride,dim=2).repeat_interleave(self.stride,dim=1)\n",
    "\n",
    "        # mask for the indices of the local maxima\n",
    "        k = torch.distributions.categorical.Categorical(self.index_probs) \n",
    "        indices = k.sample(Z.shape)\n",
    "\n",
    "        indices_repeated = indices.repeat_interleave(self.stride, dim=2).repeat_interleave(self.stride, dim=1)\n",
    "        index_places = torch.arange(self.stride**2).reshape(self.stride, self.stride).repeat(self.out_width, self.out_width)\n",
    "\n",
    "        index_mask = (index_places == indices_repeated)\n",
    "\n",
    "        # sample values in (- infty, 0]) with respective distribution\n",
    "        if self.distribution == \"half-normal\":\n",
    "            distr = torch.distributions.half_normal.HalfNormal(self.sigma)\n",
    "        else:\n",
    "            distr = torch.distributions.exponential.Exponential(self.lam)\n",
    "        samples = -distr.sample(X_hat.shape)\n",
    "\n",
    "        X_hat = X_hat + samples * ~index_mask\n",
    "        \n",
    "        return X_hat.flatten(start_dim=1)\n",
    "\n",
    "    def in_size(self) -> int | None:\n",
    "        return self.size\n",
    "\n",
    "    def out_size(self) -> int | None:\n",
    "        return int(self.out_width ** 2)"
   ]
  },
  {
   "cell_type": "code",
   "execution_count": 21,
   "metadata": {},
   "outputs": [],
   "source": [
    "sv_maxpool = SurVAE(\n",
    "    [DequantizationLayer()] + \n",
    "    [\n",
    "        [BijectiveLayer(784, [200, 200]), OrthonormalLayer(784)]\n",
    "        for _ in range(4)\n",
    "    ] +\n",
    "    [MaxPoolingLayer(784, 2)] + \n",
    "    [\n",
    "        [BijectiveLayer(196, [200, 200]), OrthonormalLayer(196)]\n",
    "        for _ in range(4)\n",
    "    ] +\n",
    "    [MaxPoolingLayer(196, 2)] +\n",
    "    [\n",
    "        [BijectiveLayer(49, [200, 200]), OrthonormalLayer(49)]\n",
    "        for _ in range(4)\n",
    "    ]\n",
    ")"
   ]
  },
  {
   "cell_type": "code",
   "execution_count": 24,
   "metadata": {},
   "outputs": [
    {
     "data": {
      "text/plain": [
       "tensor([[ 5.4760e+03,  1.5419e+04, -3.3234e+04,  2.4778e+04, -4.7010e+03,\n",
       "          8.0860e+03, -2.7783e+04,  1.0110e+04, -2.4530e+04,  2.1184e+04,\n",
       "          2.4026e+04,  6.5950e+03,  1.3030e+03, -6.2290e+03, -1.9951e+04,\n",
       "         -1.4337e+04, -1.4210e+03,  3.6335e+04, -5.9600e+03,  3.4960e+03,\n",
       "          2.1983e+04, -1.6537e+04,  1.7545e+04,  1.2338e+04, -4.1140e+03,\n",
       "         -3.6878e+04,  1.5547e+04,  6.0040e+03],\n",
       "        [-2.5227e+04, -1.8820e+03,  1.0649e+04,  2.0700e+03,  1.6230e+04,\n",
       "          1.8970e+04, -3.8660e+03,  1.1942e+04,  2.3059e+04,  2.1246e+04,\n",
       "         -6.0300e+02,  1.5166e+04,  2.1356e+04,  1.0899e+04, -2.8766e+04,\n",
       "          6.8800e+02, -3.1908e+04, -2.9285e+04, -2.5784e+04, -2.9797e+04,\n",
       "         -1.8754e+04,  5.3270e+03,  3.0624e+04, -2.0924e+04,  1.1736e+04,\n",
       "         -1.2643e+04,  1.0156e+04, -6.1740e+03],\n",
       "        [ 5.0310e+03,  2.4070e+04,  1.2751e+04, -6.0871e+04, -1.5415e+04,\n",
       "          1.9605e+04,  8.5150e+03, -4.1980e+03, -1.8255e+04,  2.4185e+04,\n",
       "         -4.1461e+04,  3.4621e+04, -4.0452e+04, -4.5700e+02, -1.2328e+04,\n",
       "          1.2643e+04, -5.9790e+03, -8.4840e+03,  3.1220e+03, -6.1440e+03,\n",
       "          7.1180e+03, -3.6990e+04, -4.6210e+03, -2.5733e+04,  3.2743e+04,\n",
       "          1.7535e+04,  8.3060e+03,  1.3441e+04],\n",
       "        [ 2.4240e+04,  1.3073e+04, -3.4369e+04,  2.3810e+03,  2.7290e+04,\n",
       "          4.7492e+04,  2.3705e+04,  2.9359e+04, -3.0133e+04, -1.5797e+04,\n",
       "          9.9320e+03,  1.0243e+04, -1.1593e+04,  2.5516e+04,  3.5060e+03,\n",
       "          1.2322e+04,  2.1070e+03, -2.1136e+04,  2.3150e+04,  1.3979e+04,\n",
       "          1.9804e+04, -9.4370e+03,  3.8280e+03,  5.7754e+04,  8.2810e+03,\n",
       "          3.2401e+04, -2.7525e+04, -1.3362e+04],\n",
       "        [-1.1750e+04, -1.0719e+04,  5.3460e+03, -1.6131e+04, -5.8340e+03,\n",
       "         -8.5970e+03,  1.8552e+04, -4.9361e+04,  7.8070e+03,  6.9450e+03,\n",
       "          2.6195e+04, -1.5058e+04, -8.9430e+03,  1.1463e+04, -3.5369e+04,\n",
       "         -5.3710e+03, -1.1638e+04, -2.5324e+04, -5.5520e+03,  5.0780e+03,\n",
       "          1.2230e+04,  1.1469e+04, -5.0550e+03,  6.0200e+03,  2.2587e+04,\n",
       "         -1.2925e+04, -1.3270e+03,  2.1656e+04],\n",
       "        [-2.5885e+04, -1.8946e+04, -5.8290e+03,  4.7120e+03,  1.3522e+04,\n",
       "         -3.5819e+04, -2.6077e+04,  3.3577e+04, -8.6570e+03, -1.4493e+04,\n",
       "          6.0550e+03,  1.0097e+04,  2.2716e+04, -4.2890e+03,  7.5140e+03,\n",
       "         -3.3620e+03,  9.3790e+03, -2.3882e+04, -3.1393e+04,  4.2681e+04,\n",
       "          5.4700e+03,  3.1124e+04,  2.6366e+04,  1.0191e+04,  1.3470e+03,\n",
       "         -2.7240e+03, -2.3224e+04, -4.8890e+03],\n",
       "        [ 4.5282e+04, -2.5950e+03,  5.8800e+03,  2.7043e+04,  2.8827e+04,\n",
       "         -7.8660e+03, -1.1560e+03,  4.1408e+04,  2.0717e+04, -1.3489e+04,\n",
       "         -3.1250e+04, -8.1400e+02, -1.7042e+04,  7.5150e+03, -5.8700e+03,\n",
       "          3.3025e+04,  1.8525e+04, -3.2970e+03,  2.9398e+04,  2.4179e+04,\n",
       "          4.0763e+04,  4.7220e+03, -1.2946e+04,  1.1261e+04, -8.1460e+03,\n",
       "          1.7535e+04,  1.9412e+04,  6.1460e+03],\n",
       "        [-1.1412e+04,  1.5264e+04,  4.4500e+02, -7.6150e+03, -2.7000e+03,\n",
       "          1.3288e+04,  3.1125e+04, -9.6010e+03,  3.4394e+04, -1.7579e+04,\n",
       "          4.7470e+03, -3.6100e+03,  1.0850e+03, -1.7223e+04,  1.3579e+04,\n",
       "         -8.9150e+03,  8.9090e+03,  1.1855e+04, -7.3270e+03, -1.9810e+03,\n",
       "          3.0559e+04,  1.5091e+04, -8.5090e+03,  1.1154e+04,  1.5714e+04,\n",
       "         -1.0435e+04, -4.5332e+04,  6.1850e+03],\n",
       "        [ 5.2080e+03,  1.5278e+04, -1.2711e+04,  3.2295e+04,  1.6463e+04,\n",
       "          1.4299e+04, -9.3500e+02, -5.3851e+04,  2.6875e+04, -4.2710e+03,\n",
       "          3.6524e+04, -2.6117e+04,  1.5389e+04, -2.8318e+04,  2.9114e+04,\n",
       "          1.5540e+03,  1.7941e+04, -2.0501e+04, -1.9370e+03, -2.1353e+04,\n",
       "          1.7936e+04, -7.8970e+03,  7.6880e+03,  9.3690e+03,  7.7120e+03,\n",
       "         -9.1810e+03,  7.1870e+03,  1.1202e+04],\n",
       "        [ 7.2690e+03, -1.6546e+04,  2.7372e+04,  2.2130e+04, -1.2113e+04,\n",
       "         -3.6741e+04, -3.3020e+03,  4.8380e+03, -1.2000e+04,  4.0110e+03,\n",
       "         -8.1360e+03, -1.5100e+04, -4.5000e+01, -2.7400e+02,  6.5010e+03,\n",
       "          1.0032e+04, -2.2510e+03, -2.5331e+04,  3.1440e+03, -4.8390e+03,\n",
       "          1.0504e+04, -1.1856e+04,  3.6841e+04, -1.8366e+04, -1.7046e+04,\n",
       "          8.1610e+03, -2.5824e+04,  3.1995e+04],\n",
       "        [-3.0100e+02, -1.7308e+04,  5.9160e+03,  1.8880e+03,  4.8320e+03,\n",
       "         -7.3200e+02,  2.3064e+04, -2.5197e+04, -1.0287e+04, -5.0620e+03,\n",
       "          5.0260e+03,  1.9063e+04, -1.2473e+04,  2.8314e+04, -1.0000e+03,\n",
       "         -1.8724e+04,  9.4000e+01, -2.3904e+04, -1.1842e+04, -3.1506e+04,\n",
       "         -2.5687e+04,  3.0015e+04, -1.0620e+03, -2.3020e+04,  2.9250e+04,\n",
       "          2.0410e+04, -3.5804e+04,  1.1870e+04],\n",
       "        [ 1.4270e+03,  2.8460e+03,  2.6718e+04,  1.3327e+04, -1.0921e+04,\n",
       "         -2.8414e+04,  3.2799e+04,  1.1230e+04,  6.9600e+02, -1.2583e+04,\n",
       "          7.3600e+02, -4.1413e+04,  1.0530e+04,  7.7260e+03, -7.1020e+03,\n",
       "          2.1361e+04, -3.0240e+03, -1.0981e+04,  2.1559e+04, -1.6529e+04,\n",
       "         -1.7436e+04,  7.6670e+03, -2.2445e+04, -7.3610e+03,  1.5705e+04,\n",
       "         -3.3535e+04, -1.8255e+04, -1.8059e+04],\n",
       "        [ 1.5610e+04,  2.0962e+04, -1.6417e+04,  6.0690e+03, -6.8920e+03,\n",
       "          3.0173e+04, -1.1792e+04,  7.4100e+03, -5.0564e+04, -1.2636e+04,\n",
       "          4.6790e+03,  6.1390e+03,  1.1949e+04,  1.9930e+03, -1.2210e+03,\n",
       "          2.0436e+04, -2.9892e+04, -1.5657e+04,  2.2981e+04,  4.7800e+03,\n",
       "          9.7400e+02, -4.5185e+04, -1.3614e+04, -4.6859e+04,  2.1507e+04,\n",
       "         -5.3060e+03,  3.5529e+04, -1.0669e+04],\n",
       "        [-2.7224e+04,  1.2772e+04,  1.3147e+04, -2.1486e+04,  2.5007e+04,\n",
       "          5.8958e+04,  2.0832e+04, -2.3400e+03, -4.5030e+03, -3.5594e+04,\n",
       "          1.6070e+03, -3.3526e+04, -6.6600e+03,  1.6675e+04, -2.2047e+04,\n",
       "         -5.9790e+03,  3.1570e+03, -4.5204e+04, -9.9030e+03, -2.3658e+04,\n",
       "          5.6480e+03,  1.3988e+04,  1.0210e+04,  6.5000e+01,  2.5268e+04,\n",
       "         -3.3720e+03,  1.9327e+04,  1.9800e+03],\n",
       "        [-9.0980e+03,  7.5130e+03,  2.6500e+02, -7.7100e+03,  2.5575e+04,\n",
       "          1.0986e+04,  9.0940e+03, -1.7030e+03,  1.1969e+04, -2.1940e+03,\n",
       "          5.6220e+03,  1.0959e+04,  2.6880e+03,  8.9000e+01,  5.1990e+03,\n",
       "          2.5180e+03, -4.6890e+03, -4.6690e+03,  3.3890e+03,  4.4770e+03,\n",
       "          3.4060e+03, -4.1370e+03,  1.1120e+04, -3.5610e+03,  4.0040e+03,\n",
       "         -1.2723e+04,  2.3280e+03,  2.7950e+03],\n",
       "        [ 6.6790e+03,  6.1190e+03,  3.5580e+03, -8.3610e+03, -1.0442e+04,\n",
       "          9.9570e+03,  5.0390e+03, -5.8150e+03,  3.0550e+03, -4.1670e+03,\n",
       "         -1.2203e+04, -5.5790e+03, -7.6340e+03,  7.6340e+03, -5.2070e+03,\n",
       "         -3.4880e+03, -1.1790e+03,  1.2298e+04, -7.4210e+03,  3.2830e+03,\n",
       "         -9.9330e+03,  4.5700e+02,  6.8900e+02, -3.9640e+03, -1.0125e+04,\n",
       "          4.6110e+03,  1.3190e+03,  1.4547e+04],\n",
       "        [-5.6810e+03,  1.5330e+03, -3.4880e+03, -4.2550e+03, -5.5180e+03,\n",
       "         -6.7410e+03,  6.0160e+03, -4.1100e+03, -2.6300e+02,  4.8620e+03,\n",
       "         -7.3470e+03, -1.4720e+04, -2.6200e+02,  2.2080e+03, -3.3280e+03,\n",
       "         -5.8170e+03, -7.6060e+03, -4.1600e+03, -1.0215e+04, -1.1051e+04,\n",
       "         -3.2440e+03, -2.1920e+03, -5.2000e+01, -2.0070e+03,  8.2840e+03,\n",
       "          7.2470e+03, -5.1380e+03, -1.1757e+04],\n",
       "        [-3.1080e+03,  1.6110e+03, -1.6420e+03,  1.0897e+04, -4.5870e+03,\n",
       "         -6.0320e+03,  1.3220e+03, -1.7204e+04, -2.3600e+03,  3.6300e+02,\n",
       "          5.1340e+03, -9.4670e+03, -6.1740e+03,  1.3104e+04,  6.4480e+03,\n",
       "         -1.8215e+04, -8.8800e+02,  9.0460e+03,  4.9340e+03,  5.8840e+03,\n",
       "          7.7730e+03, -1.0500e+02, -5.2190e+03, -1.0432e+04, -4.6470e+03,\n",
       "          7.7210e+03,  8.0100e+03, -3.3440e+03],\n",
       "        [ 1.1086e+04, -7.1910e+03, -3.7900e+02, -5.7910e+03, -1.2410e+03,\n",
       "         -5.5900e+03, -9.5750e+03, -3.8780e+03, -4.5750e+03, -1.9400e+03,\n",
       "         -1.0573e+04, -4.0830e+03,  4.1970e+03, -8.8900e+02, -3.3800e+02,\n",
       "          8.0000e+01, -2.3600e+02,  1.1099e+04,  2.0610e+03,  1.1223e+04,\n",
       "         -9.1500e+02,  3.8740e+03,  3.0840e+03, -4.8660e+03, -6.6520e+03,\n",
       "          2.5330e+03, -4.2460e+03, -5.5200e+03],\n",
       "        [-4.9320e+03,  4.6590e+03,  2.6990e+03,  6.7190e+03, -3.4910e+03,\n",
       "         -2.1300e+02,  1.0800e+03, -4.3170e+03, -7.9070e+03, -2.6300e+03,\n",
       "          1.2889e+04,  6.5010e+03,  4.9900e+03,  7.6080e+03,  4.2210e+03,\n",
       "         -3.5000e+01,  3.3630e+03, -6.5770e+03, -1.0150e+03,  7.3590e+03,\n",
       "         -1.7750e+03,  2.8590e+03, -9.6850e+03, -8.8040e+03, -4.6930e+03,\n",
       "          6.9490e+03, -9.8970e+03, -7.5070e+03],\n",
       "        [ 9.1700e+02,  8.7460e+03, -8.4430e+03, -8.1800e+02,  1.1250e+03,\n",
       "         -1.1706e+04,  3.1000e+01, -9.6480e+03,  8.0600e+03, -9.6230e+03,\n",
       "          3.7380e+03, -9.2000e+02,  1.2245e+04, -1.7900e+03, -6.5700e+02,\n",
       "          1.5380e+03,  7.0830e+03,  7.0940e+03,  7.2400e+02,  7.4300e+03,\n",
       "          2.6690e+03,  2.5620e+03, -1.1760e+03, -7.3720e+03, -7.7640e+03,\n",
       "          6.4750e+03,  3.0240e+03, -2.3590e+03],\n",
       "        [-1.7930e+03, -1.4572e+04,  2.9840e+03,  3.5870e+03,  1.1488e+04,\n",
       "          2.5080e+03, -1.3860e+03,  2.1800e+02,  9.0110e+03,  2.5550e+03,\n",
       "          2.2200e+03, -1.9200e+04, -6.5080e+03, -1.2560e+04,  4.8020e+03,\n",
       "          3.2200e+03, -2.2530e+03, -1.3290e+03, -5.7500e+02, -2.3050e+03,\n",
       "         -4.3100e+02, -1.4083e+04, -4.2310e+03,  6.7810e+03,  3.3990e+03,\n",
       "         -1.7303e+04, -3.2250e+03,  3.6620e+03],\n",
       "        [-3.4370e+03,  3.2190e+03, -4.0080e+03, -1.9850e+03,  1.2640e+03,\n",
       "         -3.3300e+02, -3.0120e+03,  1.7250e+03,  2.2876e+04, -2.0010e+03,\n",
       "         -2.4830e+03,  4.6840e+03, -3.9900e+03, -4.9400e+02,  8.4860e+03,\n",
       "         -9.7600e+02, -2.3817e+04, -6.7370e+03, -4.1710e+03,  1.2300e+03,\n",
       "          4.5140e+03,  6.9260e+03, -9.0980e+03, -4.3810e+03, -9.5000e+01,\n",
       "         -2.0500e+02,  4.3600e+02,  1.9100e+02],\n",
       "        [ 2.1730e+03, -5.0280e+03,  1.2794e+04,  1.7050e+03,  6.5070e+03,\n",
       "          4.5890e+03,  6.5700e+02,  1.1930e+03,  9.0810e+03,  1.2731e+04,\n",
       "         -6.9000e+02, -4.0400e+02,  3.4950e+03,  5.8150e+03, -4.6860e+03,\n",
       "         -4.0060e+03,  8.4120e+03,  1.0580e+03, -3.8890e+03, -5.1410e+03,\n",
       "         -1.0788e+04,  6.1660e+03,  3.6630e+03, -3.8480e+03, -2.0660e+03,\n",
       "         -1.0087e+04,  5.5180e+03,  1.2340e+03],\n",
       "        [-6.3220e+03,  5.3900e+02,  1.4112e+04,  3.9190e+03,  6.3560e+03,\n",
       "         -1.0776e+04,  1.0560e+04, -3.1500e+03, -4.0470e+03,  1.9700e+03,\n",
       "          1.3653e+04, -4.2700e+03, -7.1540e+03,  1.3730e+03, -2.2180e+03,\n",
       "         -3.1920e+03, -4.5000e+02, -7.7270e+03, -1.3822e+04,  3.3420e+03,\n",
       "         -5.8020e+03, -2.3430e+03,  6.4380e+03,  4.2500e+02, -6.5560e+03,\n",
       "         -8.1400e+03,  2.3980e+03,  8.9700e+03],\n",
       "        [-7.7120e+03,  1.2262e+04, -1.0810e+03,  9.0700e+02,  7.4630e+03,\n",
       "          5.3520e+03,  2.0420e+03,  8.9000e+02, -3.7430e+03,  2.4380e+03,\n",
       "         -3.2170e+03,  5.8260e+03, -2.3580e+03, -5.0390e+03, -2.1050e+03,\n",
       "          1.3401e+04, -5.0120e+03, -9.4200e+02,  1.9890e+03, -5.1230e+03,\n",
       "          4.8340e+03, -4.7910e+03,  7.4800e+02,  9.4400e+02,  1.2300e+04,\n",
       "         -5.6120e+03, -2.2583e+04, -9.8520e+03],\n",
       "        [-2.3400e+03, -1.8940e+03, -4.7060e+03, -4.6420e+03, -6.9790e+03,\n",
       "          8.0210e+03, -2.9250e+03,  4.9400e+03,  6.0670e+03,  8.4430e+03,\n",
       "          1.7202e+04,  1.5530e+03,  9.3110e+03,  1.1010e+04, -3.4880e+03,\n",
       "          8.3380e+03,  8.5300e+02, -2.4000e+02, -2.9210e+03,  1.1314e+04,\n",
       "         -4.9220e+03, -1.3163e+04,  2.0400e+03,  7.9950e+03,  5.3400e+02,\n",
       "          5.3520e+03,  5.0450e+03,  3.0150e+03],\n",
       "        [-7.3630e+03, -3.3530e+03,  6.1920e+03, -2.0076e+04, -9.8350e+03,\n",
       "         -9.5910e+03,  2.0180e+03,  2.2810e+03,  6.5130e+03, -1.2568e+04,\n",
       "         -1.0000e+00,  7.6040e+03,  1.0355e+04,  6.2000e+02,  9.7380e+03,\n",
       "         -3.2900e+03, -2.2000e+01, -1.2212e+04, -9.0000e+01,  7.0820e+03,\n",
       "          6.4230e+03, -1.0435e+04, -8.3900e+03, -4.6900e+02,  2.5480e+03,\n",
       "          7.5090e+03, -6.4000e+01,  1.8650e+03]], device='cuda:0',\n",
       "       grad_fn=<ViewBackward0>)"
      ]
     },
     "execution_count": 24,
     "metadata": {},
     "output_type": "execute_result"
    }
   ],
   "source": [
    "sv_maxpool.backward(sv_maxpool(Y))[0].reshape(28, 28)"
   ]
  },
  {
   "cell_type": "code",
   "execution_count": 41,
   "metadata": {},
   "outputs": [],
   "source": [
    "stride = 3\n",
    "k = torch.distributions.categorical.Categorical(torch.tensor([1/stride**2] * stride**2))"
   ]
  },
  {
   "cell_type": "code",
   "execution_count": 39,
   "metadata": {},
   "outputs": [],
   "source": [
    "X = torch.rand((5, 2, 2))"
   ]
  },
  {
   "cell_type": "code",
   "execution_count": 40,
   "metadata": {},
   "outputs": [
    {
     "data": {
      "text/plain": [
       "tensor([[[0.0113, 0.1925],\n",
       "         [0.9855, 0.0136]],\n",
       "\n",
       "        [[0.1857, 0.6647],\n",
       "         [0.8401, 0.3900]],\n",
       "\n",
       "        [[0.7625, 0.2858],\n",
       "         [0.3856, 0.3626]],\n",
       "\n",
       "        [[0.1868, 0.5256],\n",
       "         [0.1865, 0.8363]],\n",
       "\n",
       "        [[0.6340, 0.4767],\n",
       "         [0.7391, 0.4692]]], device='cuda:0')"
      ]
     },
     "execution_count": 40,
     "metadata": {},
     "output_type": "execute_result"
    }
   ],
   "source": [
    "X"
   ]
  },
  {
   "cell_type": "code",
   "execution_count": 42,
   "metadata": {},
   "outputs": [
    {
     "data": {
      "text/plain": [
       "tensor([[[8, 7],\n",
       "         [8, 8]],\n",
       "\n",
       "        [[2, 1],\n",
       "         [7, 3]],\n",
       "\n",
       "        [[5, 1],\n",
       "         [1, 1]],\n",
       "\n",
       "        [[7, 1],\n",
       "         [6, 8]],\n",
       "\n",
       "        [[0, 1],\n",
       "         [6, 4]]], device='cuda:0')"
      ]
     },
     "execution_count": 42,
     "metadata": {},
     "output_type": "execute_result"
    }
   ],
   "source": [
    "i_x = k.sample((5, 2, 2))\n",
    "i_x"
   ]
  },
  {
   "cell_type": "code",
   "execution_count": 43,
   "metadata": {},
   "outputs": [
    {
     "data": {
      "text/plain": [
       "tensor([[[8, 8, 8, 7, 7, 7],\n",
       "         [8, 8, 8, 7, 7, 7],\n",
       "         [8, 8, 8, 7, 7, 7],\n",
       "         [8, 8, 8, 8, 8, 8],\n",
       "         [8, 8, 8, 8, 8, 8],\n",
       "         [8, 8, 8, 8, 8, 8]],\n",
       "\n",
       "        [[2, 2, 2, 1, 1, 1],\n",
       "         [2, 2, 2, 1, 1, 1],\n",
       "         [2, 2, 2, 1, 1, 1],\n",
       "         [7, 7, 7, 3, 3, 3],\n",
       "         [7, 7, 7, 3, 3, 3],\n",
       "         [7, 7, 7, 3, 3, 3]],\n",
       "\n",
       "        [[5, 5, 5, 1, 1, 1],\n",
       "         [5, 5, 5, 1, 1, 1],\n",
       "         [5, 5, 5, 1, 1, 1],\n",
       "         [1, 1, 1, 1, 1, 1],\n",
       "         [1, 1, 1, 1, 1, 1],\n",
       "         [1, 1, 1, 1, 1, 1]],\n",
       "\n",
       "        [[7, 7, 7, 1, 1, 1],\n",
       "         [7, 7, 7, 1, 1, 1],\n",
       "         [7, 7, 7, 1, 1, 1],\n",
       "         [6, 6, 6, 8, 8, 8],\n",
       "         [6, 6, 6, 8, 8, 8],\n",
       "         [6, 6, 6, 8, 8, 8]],\n",
       "\n",
       "        [[0, 0, 0, 1, 1, 1],\n",
       "         [0, 0, 0, 1, 1, 1],\n",
       "         [0, 0, 0, 1, 1, 1],\n",
       "         [6, 6, 6, 4, 4, 4],\n",
       "         [6, 6, 6, 4, 4, 4],\n",
       "         [6, 6, 6, 4, 4, 4]]], device='cuda:0')"
      ]
     },
     "execution_count": 43,
     "metadata": {},
     "output_type": "execute_result"
    }
   ],
   "source": [
    "j = i_x.repeat_interleave(3, dim=2).repeat_interleave(3, dim=1)\n",
    "j"
   ]
  },
  {
   "cell_type": "code",
   "execution_count": 70,
   "metadata": {},
   "outputs": [
    {
     "data": {
      "text/plain": [
       "tensor([[0, 1, 2, 0, 1, 2],\n",
       "        [3, 4, 5, 3, 4, 5],\n",
       "        [6, 7, 8, 6, 7, 8],\n",
       "        [0, 1, 2, 0, 1, 2],\n",
       "        [3, 4, 5, 3, 4, 5],\n",
       "        [6, 7, 8, 6, 7, 8]], device='cuda:0')"
      ]
     },
     "execution_count": 70,
     "metadata": {},
     "output_type": "execute_result"
    }
   ],
   "source": [
    "m = torch.arange(stride**2).reshape(stride, stride).repeat(2, 2)\n",
    "m"
   ]
  },
  {
   "cell_type": "code",
   "execution_count": 71,
   "metadata": {},
   "outputs": [],
   "source": [
    "mask = (m == j)"
   ]
  },
  {
   "cell_type": "code",
   "execution_count": 72,
   "metadata": {},
   "outputs": [
    {
     "data": {
      "text/plain": [
       "tensor([[[False, False, False, False, False, False],\n",
       "         [False, False, False, False, False, False],\n",
       "         [False, False,  True, False,  True, False],\n",
       "         [False, False, False, False, False, False],\n",
       "         [False, False, False, False, False, False],\n",
       "         [False, False,  True, False, False,  True]],\n",
       "\n",
       "        [[False, False,  True, False,  True, False],\n",
       "         [False, False, False, False, False, False],\n",
       "         [False, False, False, False, False, False],\n",
       "         [False, False, False, False, False, False],\n",
       "         [False, False, False,  True, False, False],\n",
       "         [False,  True, False, False, False, False]],\n",
       "\n",
       "        [[False, False, False, False,  True, False],\n",
       "         [False, False,  True, False, False, False],\n",
       "         [False, False, False, False, False, False],\n",
       "         [False,  True, False, False,  True, False],\n",
       "         [False, False, False, False, False, False],\n",
       "         [False, False, False, False, False, False]],\n",
       "\n",
       "        [[False, False, False, False,  True, False],\n",
       "         [False, False, False, False, False, False],\n",
       "         [False,  True, False, False, False, False],\n",
       "         [False, False, False, False, False, False],\n",
       "         [False, False, False, False, False, False],\n",
       "         [ True, False, False, False, False,  True]],\n",
       "\n",
       "        [[ True, False, False, False,  True, False],\n",
       "         [False, False, False, False, False, False],\n",
       "         [False, False, False, False, False, False],\n",
       "         [False, False, False, False, False, False],\n",
       "         [False, False, False, False,  True, False],\n",
       "         [ True, False, False, False, False, False]]], device='cuda:0')"
      ]
     },
     "execution_count": 72,
     "metadata": {},
     "output_type": "execute_result"
    }
   ],
   "source": [
    "mask"
   ]
  },
  {
   "cell_type": "code",
   "execution_count": 49,
   "metadata": {},
   "outputs": [],
   "source": [
    "distr = torch.distributions.half_normal.HalfNormal(1)"
   ]
  },
  {
   "cell_type": "code",
   "execution_count": 53,
   "metadata": {},
   "outputs": [],
   "source": [
    "noise = distr.sample((5, 6, 6))"
   ]
  },
  {
   "cell_type": "code",
   "execution_count": 54,
   "metadata": {},
   "outputs": [],
   "source": [
    "noise[mask] = 0"
   ]
  },
  {
   "cell_type": "code",
   "execution_count": 64,
   "metadata": {},
   "outputs": [
    {
     "data": {
      "text/plain": [
       "tensor([[[ 0.,  1.],\n",
       "         [ 2.,  3.]],\n",
       "\n",
       "        [[ 4.,  5.],\n",
       "         [ 6.,  7.]],\n",
       "\n",
       "        [[ 8.,  9.],\n",
       "         [10., 11.]],\n",
       "\n",
       "        [[12., 13.],\n",
       "         [14., 15.]],\n",
       "\n",
       "        [[16., 17.],\n",
       "         [18., 19.]]], device='cuda:0')"
      ]
     },
     "execution_count": 64,
     "metadata": {},
     "output_type": "execute_result"
    }
   ],
   "source": [
    "Y"
   ]
  },
  {
   "cell_type": "code",
   "execution_count": 65,
   "metadata": {},
   "outputs": [
    {
     "data": {
      "text/plain": [
       "tensor([[[8, 7],\n",
       "         [8, 8]],\n",
       "\n",
       "        [[2, 1],\n",
       "         [7, 3]],\n",
       "\n",
       "        [[5, 1],\n",
       "         [1, 1]],\n",
       "\n",
       "        [[7, 1],\n",
       "         [6, 8]],\n",
       "\n",
       "        [[0, 1],\n",
       "         [6, 4]]], device='cuda:0')"
      ]
     },
     "execution_count": 65,
     "metadata": {},
     "output_type": "execute_result"
    }
   ],
   "source": [
    "i_x"
   ]
  },
  {
   "cell_type": "code",
   "execution_count": 68,
   "metadata": {},
   "outputs": [
    {
     "data": {
      "text/plain": [
       "tensor([[[ 0.,  0.,  0.,  1.,  1.,  1.],\n",
       "         [ 0.,  0.,  0.,  1.,  1.,  1.],\n",
       "         [ 0.,  0.,  0.,  1.,  1.,  1.],\n",
       "         [ 2.,  2.,  2.,  3.,  3.,  3.],\n",
       "         [ 2.,  2.,  2.,  3.,  3.,  3.],\n",
       "         [ 2.,  2.,  2.,  3.,  3.,  3.]],\n",
       "\n",
       "        [[ 4.,  4.,  4.,  5.,  5.,  5.],\n",
       "         [ 4.,  4.,  4.,  5.,  5.,  5.],\n",
       "         [ 4.,  4.,  4.,  5.,  5.,  5.],\n",
       "         [ 6.,  6.,  6.,  7.,  7.,  7.],\n",
       "         [ 6.,  6.,  6.,  7.,  7.,  7.],\n",
       "         [ 6.,  6.,  6.,  7.,  7.,  7.]],\n",
       "\n",
       "        [[ 8.,  8.,  8.,  9.,  9.,  9.],\n",
       "         [ 8.,  8.,  8.,  9.,  9.,  9.],\n",
       "         [ 8.,  8.,  8.,  9.,  9.,  9.],\n",
       "         [10., 10., 10., 11., 11., 11.],\n",
       "         [10., 10., 10., 11., 11., 11.],\n",
       "         [10., 10., 10., 11., 11., 11.]],\n",
       "\n",
       "        [[12., 12., 12., 13., 13., 13.],\n",
       "         [12., 12., 12., 13., 13., 13.],\n",
       "         [12., 12., 12., 13., 13., 13.],\n",
       "         [14., 14., 14., 15., 15., 15.],\n",
       "         [14., 14., 14., 15., 15., 15.],\n",
       "         [14., 14., 14., 15., 15., 15.]],\n",
       "\n",
       "        [[16., 16., 16., 17., 17., 17.],\n",
       "         [16., 16., 16., 17., 17., 17.],\n",
       "         [16., 16., 16., 17., 17., 17.],\n",
       "         [18., 18., 18., 19., 19., 19.],\n",
       "         [18., 18., 18., 19., 19., 19.],\n",
       "         [18., 18., 18., 19., 19., 19.]]], device='cuda:0')"
      ]
     },
     "execution_count": 68,
     "metadata": {},
     "output_type": "execute_result"
    }
   ],
   "source": [
    "Y.repeat_interleave(stride, dim=1).repeat_interleave(stride, dim=2)# - noise"
   ]
  },
  {
   "cell_type": "code",
   "execution_count": 56,
   "metadata": {},
   "outputs": [
    {
     "data": {
      "text/plain": [
       "tensor([[[1.3792e-01, 4.3330e-01, 1.5246e+00, 2.7716e-02, 5.4281e-01,\n",
       "          8.7602e-01],\n",
       "         [6.9744e-01, 6.2943e-01, 8.0855e-01, 1.0384e+00, 9.8370e-01,\n",
       "          7.1186e-01],\n",
       "         [8.5196e-02, 1.7355e+00, 0.0000e+00, 4.0134e-01, 0.0000e+00,\n",
       "          8.3930e-02],\n",
       "         [1.0733e+00, 5.2208e-01, 1.1773e+00, 7.3479e-01, 1.1327e+00,\n",
       "          1.5764e+00],\n",
       "         [1.2669e+00, 5.9731e-02, 1.9881e+00, 5.4116e-01, 1.2755e+00,\n",
       "          1.0582e+00],\n",
       "         [4.7391e-01, 4.9395e-01, 0.0000e+00, 1.2666e+00, 2.1236e-01,\n",
       "          0.0000e+00]],\n",
       "\n",
       "        [[1.2257e+00, 3.3878e-03, 0.0000e+00, 9.3340e-02, 0.0000e+00,\n",
       "          9.5253e-01],\n",
       "         [3.2024e-01, 2.0815e-01, 6.5682e-01, 2.6940e-01, 5.8574e-01,\n",
       "          1.2978e+00],\n",
       "         [7.0754e-01, 1.7845e-01, 7.8741e-01, 7.6911e-01, 5.8098e-01,\n",
       "          1.2552e+00],\n",
       "         [2.2400e-01, 4.8800e-02, 6.4940e-01, 8.8261e-01, 8.9923e-02,\n",
       "          3.3365e-01],\n",
       "         [5.1991e-01, 7.1833e-01, 6.3866e-01, 0.0000e+00, 1.6480e+00,\n",
       "          1.5398e+00],\n",
       "         [3.0524e-02, 0.0000e+00, 1.3840e-01, 1.1786e+00, 2.6302e+00,\n",
       "          3.0952e-01]],\n",
       "\n",
       "        [[4.2652e-01, 3.6638e-01, 1.9858e+00, 1.2756e+00, 0.0000e+00,\n",
       "          2.6392e-01],\n",
       "         [1.6600e+00, 9.9369e-01, 0.0000e+00, 6.5296e-01, 1.1286e+00,\n",
       "          8.3941e-01],\n",
       "         [4.9914e-01, 7.1234e-01, 5.8784e-01, 1.0178e+00, 3.4946e-02,\n",
       "          1.9747e-02],\n",
       "         [1.5220e+00, 0.0000e+00, 9.8458e-01, 1.2637e+00, 0.0000e+00,\n",
       "          8.0143e-01],\n",
       "         [5.3230e-01, 9.4982e-01, 1.6259e-01, 5.1873e-01, 4.2635e-01,\n",
       "          8.3342e-01],\n",
       "         [9.5355e-02, 3.3386e-01, 8.5478e-01, 3.6289e-01, 4.5575e-01,\n",
       "          4.6800e-01]],\n",
       "\n",
       "        [[1.8365e+00, 1.5436e-01, 4.8057e-01, 2.6897e-01, 0.0000e+00,\n",
       "          8.3396e-01],\n",
       "         [1.6557e-01, 7.5143e-01, 8.5062e-01, 1.8727e+00, 2.6616e-01,\n",
       "          3.0258e-01],\n",
       "         [5.4681e-01, 0.0000e+00, 3.5670e-01, 1.2996e+00, 1.6549e+00,\n",
       "          7.6351e-04],\n",
       "         [2.6502e+00, 5.4461e-01, 5.9343e-01, 6.4310e-01, 6.9664e-02,\n",
       "          5.0347e-01],\n",
       "         [1.6774e-01, 9.1711e-01, 5.1355e-01, 6.6874e-01, 3.9423e-01,\n",
       "          2.0611e-02],\n",
       "         [0.0000e+00, 9.8688e-01, 1.4594e+00, 4.9337e-01, 2.8692e-01,\n",
       "          0.0000e+00]],\n",
       "\n",
       "        [[0.0000e+00, 1.5267e+00, 1.8469e+00, 2.8818e-01, 0.0000e+00,\n",
       "          7.4765e-01],\n",
       "         [5.2267e-01, 1.7324e+00, 1.9054e+00, 2.2858e+00, 7.5857e-01,\n",
       "          3.4296e+00],\n",
       "         [9.3578e-01, 9.3248e-02, 1.7367e+00, 1.8019e-01, 3.0362e-01,\n",
       "          2.2621e+00],\n",
       "         [1.9358e-01, 3.2181e-01, 1.4904e+00, 6.8001e-01, 6.9330e-01,\n",
       "          5.8517e-01],\n",
       "         [9.7218e-01, 9.9553e-01, 9.8300e-01, 1.5212e+00, 0.0000e+00,\n",
       "          9.4929e-01],\n",
       "         [0.0000e+00, 3.6429e-01, 2.8615e-01, 4.9546e-01, 1.2863e-01,\n",
       "          7.1097e-01]]], device='cuda:0')"
      ]
     },
     "execution_count": 56,
     "metadata": {},
     "output_type": "execute_result"
    }
   ],
   "source": [
    "noise"
   ]
  },
  {
   "cell_type": "code",
   "execution_count": null,
   "metadata": {},
   "outputs": [],
   "source": []
  }
 ],
 "metadata": {
  "kernelspec": {
   "display_name": "Python 3",
   "language": "python",
   "name": "python3"
  },
  "language_info": {
   "codemirror_mode": {
    "name": "ipython",
    "version": 3
   },
   "file_extension": ".py",
   "mimetype": "text/x-python",
   "name": "python",
   "nbconvert_exporter": "python",
   "pygments_lexer": "ipython3",
   "version": "3.12.1"
  }
 },
 "nbformat": 4,
 "nbformat_minor": 2
}
