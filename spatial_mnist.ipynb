{
 "cells": [
  {
   "cell_type": "code",
   "execution_count": null,
   "metadata": {},
   "outputs": [],
   "source": [
    "import torch\n",
    "import numpy as np\n",
    "from matplotlib import pyplot as plt\n",
    "\n",
    "from survae import SurVAE, DEVICE\n",
    "from survae.data import *\n",
    "from survae.layer import *\n",
    "from survae.calibrate import *"
   ]
  },
  {
   "cell_type": "code",
   "execution_count": null,
   "metadata": {},
   "outputs": [],
   "source": [
    "SAVE_PATH = \"./saves/sv_smnist\""
   ]
  },
  {
   "cell_type": "code",
   "execution_count": null,
   "metadata": {},
   "outputs": [],
   "source": [
    "# number of points per image\n",
    "N_POINTS = 50"
   ]
  },
  {
   "cell_type": "code",
   "execution_count": null,
   "metadata": {},
   "outputs": [],
   "source": [
    "smnist_dataset = SpatialMNIST(k=N_POINTS, flatten=False)"
   ]
  },
  {
   "cell_type": "code",
   "execution_count": null,
   "metadata": {},
   "outputs": [],
   "source": [
    "class BijectiveLayer(Layer):\n",
    "    def __init__(self, shape: tuple[int] | int, hidden_sizes: list[int]) -> None:\n",
    "        '''\n",
    "        Standard bijective block from normalizing flow architecture.\n",
    "\n",
    "        ### Inputs:\n",
    "        * shape: Shape of input entries, which is the same for the output.\n",
    "        * hidden_sizes: Sizes of hidden layers of the nested FFNN.\n",
    "        '''\n",
    "        super().__init__()\n",
    "\n",
    "        # transform shape variable into a more usable form\n",
    "        if isinstance(shape, int):\n",
    "            shape = (shape,)\n",
    "\n",
    "        self.shape = shape\n",
    "\n",
    "        self.size = torch.prod(torch.tensor(shape)).item()\n",
    "\n",
    "        assert self.size > 1, \"Bijective layer size must be at least 2!\"\n",
    "\n",
    "        # The size of the skip connection is half the input size, rounded down\n",
    "        self.skip_size = self.size // 2\n",
    "        self.non_skip_size = self.size - self.skip_size\n",
    "\n",
    "        self.hidden_sizes = hidden_sizes\n",
    "\n",
    "        self.ffnn = FFNN(self.skip_size, self.hidden_sizes, 2 * self.non_skip_size)\n",
    "\n",
    "    def forward(self, X: torch.Tensor, condition: torch.Tensor | None = None, return_log_likelihood: bool = False):\n",
    "        # flatten input\n",
    "        X = X.flatten(start_dim=1)\n",
    "\n",
    "        # split input into skip and non-skip\n",
    "        skip_connection = X[:, :self.skip_size]\n",
    "        non_skip_connection = X[:, self.skip_size:]\n",
    "\n",
    "        # add conditional input\n",
    "        if condition is not None:\n",
    "            ffnn_input = torch.cat((skip_connection, condition), dim=1)\n",
    "        else:\n",
    "            ffnn_input = skip_connection\n",
    "\n",
    "        # compute coefficients for linear transformation\n",
    "        coeffs = self.ffnn(ffnn_input)\n",
    "        # split output into t and pre_s\n",
    "        t = coeffs[:, :self.non_skip_size]\n",
    "        pre_s = coeffs[:, self.non_skip_size:]\n",
    "        # compute s_log for log-likelihood contribution\n",
    "        s_log = tanh(pre_s)\n",
    "        # compute s\n",
    "        s = exp(s_log)\n",
    "\n",
    "        # apply transformation\n",
    "        new_connection = s * non_skip_connection + t\n",
    "        # stack skip connection and transformed non-skip connection\n",
    "        Z = torch.cat((skip_connection, new_connection), dim=1)\n",
    "\n",
    "        # reshape output\n",
    "        Z = Z.reshape(-1, *self.shape)\n",
    "\n",
    "        if return_log_likelihood:\n",
    "            return Z, torch.sum(s_log)\n",
    "        else:\n",
    "            return Z\n",
    "\n",
    "    def backward(self, Z: torch.Tensor, condition: torch.Tensor | None = None):\n",
    "        # flatten input\n",
    "        Z = Z.flatten(start_dim=1)\n",
    "\n",
    "        # split input into skip and non-skip\n",
    "        skip_connection = Z[:, :self.skip_size]\n",
    "        non_skip_connections = Z[:, self.skip_size:]\n",
    "\n",
    "        # add conditional input\n",
    "        if condition is not None:\n",
    "            ffnn_input = torch.cat((skip_connection, condition), dim=1)\n",
    "        else:\n",
    "            ffnn_input = skip_connection\n",
    "\n",
    "        # compute coefficients for linear transformation\n",
    "        coeffs = self.ffnn(ffnn_input)\n",
    "        # split output into t and pre_s\n",
    "        t = coeffs[:, :self.non_skip_size]\n",
    "        pre_s = coeffs[:, self.non_skip_size:]\n",
    "        # compute s\n",
    "        s = exp(tanh(pre_s))\n",
    "\n",
    "        # apply inverse transformation\n",
    "        new_connection = (non_skip_connections - t) / s\n",
    "        # stack skip connection and transformed non-skip connection\n",
    "        X = torch.cat((skip_connection, new_connection), dim=1)\n",
    "\n",
    "        # reshape output\n",
    "        X = X.reshape(-1, *self.shape)\n",
    "\n",
    "        return X\n",
    "\n",
    "    def make_conditional(self, size: int):\n",
    "        self.ffnn = FFNN(self.skip_size + size, self.hidden_sizes, 2 * self.non_skip_size)\n",
    "\n",
    "    def in_size(self) -> int | None:\n",
    "        return self.size\n",
    "\n",
    "    def out_size(self) -> int | None:\n",
    "        return self.size"
   ]
  },
  {
   "cell_type": "code",
   "execution_count": null,
   "metadata": {},
   "outputs": [],
   "source": [
    "# This is a very hacky way of creating a layer that swaps the x- and y-components\n",
    "# of the spatial data, which is needed for each step in the SMNIST architecture.\n",
    "# I am sorry.\n",
    "transposition_layer = OrthonormalLayer(2)\n",
    "transposition_layer.o = nn.Parameter(torch.tensor([[0, 1], [1, 0]], dtype=torch.double), requires_grad=False)"
   ]
  },
  {
   "cell_type": "code",
   "execution_count": null,
   "metadata": {},
   "outputs": [],
   "source": [
    "sv_smnist = SurVAE(\n",
    "    [\n",
    "        [\n",
    "            PermuteAxesLayer((1, 0)),\n",
    "            BijectiveLayer((2, N_POINTS), [200, 200]),\n",
    "            PermuteAxesLayer((1, 0)),\n",
    "            transposition_layer,\n",
    "            BijectiveLayer((N_POINTS, 2), [200, 200]),\n",
    "            PermutationLayer()\n",
    "        ]\n",
    "        for _ in range(32)\n",
    "    ] +\n",
    "    [ReshapeLayer((2, N_POINTS), (2 * N_POINTS,))],\n",
    "    name = \"SV_SMNIST\",\n",
    "    condition_size = 10\n",
    ")"
   ]
  },
  {
   "cell_type": "code",
   "execution_count": null,
   "metadata": {},
   "outputs": [],
   "source": [
    "train_log = sv_smnist.train(\n",
    "    dataset    = smnist_dataset,\n",
    "    batch_size = 1000,\n",
    "    test_size  = 100,\n",
    "    epochs     = 8_000,\n",
    "    lr         = 1e-3,\n",
    "    log_period = 400,\n",
    "    show_tqdm  = True,\n",
    "    lr_decay_params = {'gamma': 0.95, 'step_size': 500},\n",
    "    # save_path = SAVE_PATH,\n",
    ")"
   ]
  },
  {
   "cell_type": "code",
   "execution_count": null,
   "metadata": {},
   "outputs": [],
   "source": [
    "# save the model\n",
    "torch.save(sv_smnist.state_dict(), \"./saves/sv_smnist/model.pt\")"
   ]
  },
  {
   "cell_type": "markdown",
   "metadata": {},
   "source": [
    "### Plot loss"
   ]
  },
  {
   "cell_type": "code",
   "execution_count": null,
   "metadata": {},
   "outputs": [],
   "source": [
    "times = list(train_log.keys())\n",
    "loss_train = [m.training_loss for m in train_log.values()]\n",
    "loss_test = [m.testing_loss for m in train_log.values()]"
   ]
  },
  {
   "cell_type": "code",
   "execution_count": null,
   "metadata": {},
   "outputs": [],
   "source": [
    "plt.figure(figsize=(5, 4))\n",
    "\n",
    "plt.plot(times, loss_train, label='Training loss')\n",
    "plt.plot(times, loss_test, label='Validation loss')\n",
    "\n",
    "plt.title('Loss of MNIST network during training')\n",
    "plt.xlabel('Number of epochs')\n",
    "plt.ylabel('NLL Loss')\n",
    "\n",
    "plt.grid()\n",
    "# plt.ylim(0, 1e17)\n",
    "plt.legend()\n",
    "plt.tight_layout()\n",
    "plt.show()"
   ]
  },
  {
   "cell_type": "markdown",
   "metadata": {},
   "source": [
    "## Calibration"
   ]
  },
  {
   "cell_type": "code",
   "execution_count": null,
   "metadata": {},
   "outputs": [],
   "source": [
    "X, y = smnist_dataset.sample(1_000, labels=True)\n",
    "y = smnist_dataset.label_to_one_hot(y.long(), 10)\n",
    "\n",
    "with torch.no_grad():\n",
    "    Z = sv_smnist(X, y).cpu()"
   ]
  },
  {
   "cell_type": "code",
   "execution_count": null,
   "metadata": {},
   "outputs": [],
   "source": [
    "# calculate standard deviation\n",
    "sigma = Z.std().item()\n",
    "print(f\"Standard deviation of code distribution is measured to be {sigma:.4f}\")"
   ]
  },
  {
   "cell_type": "code",
   "execution_count": null,
   "metadata": {},
   "outputs": [],
   "source": [
    "# randomly choose 6 dimensions to display\n",
    "rp = torch.randperm(Z.shape[-1])[:6].cpu()\n",
    "plot_learned_distribution(Z[:, rp], \"\", axis_scale=1, sigma=sigma)"
   ]
  },
  {
   "cell_type": "markdown",
   "metadata": {},
   "source": [
    "## Sampling"
   ]
  },
  {
   "cell_type": "code",
   "execution_count": null,
   "metadata": {},
   "outputs": [],
   "source": [
    "ncols = 10\n",
    "nrows = 4\n",
    "plotsize = 1.5"
   ]
  },
  {
   "cell_type": "code",
   "execution_count": null,
   "metadata": {},
   "outputs": [],
   "source": [
    "# sample 1's\n",
    "# _y = torch.tensor([1]).expand(ncols * nrows)\n",
    "\n",
    "# sample every kind of number several times\n",
    "_y = torch.arange(10).repeat(nrows)\n",
    "print(_y)\n",
    "\n",
    "y = smnist_dataset.label_to_one_hot(_y, 10)"
   ]
  },
  {
   "cell_type": "code",
   "execution_count": null,
   "metadata": {},
   "outputs": [],
   "source": [
    "# manually specify the standard deviation for the samples\n",
    "Z_hat = torch.normal(0, sigma, size=(ncols * nrows, 2 * N_POINTS), device=DEVICE)\n",
    "with torch.no_grad():\n",
    "    X_hat = sv_smnist.backward(Z_hat, y).reshape(nrows, ncols, N_POINTS, 2).cpu()"
   ]
  },
  {
   "cell_type": "code",
   "execution_count": null,
   "metadata": {},
   "outputs": [],
   "source": [
    "fig, ax = plt.subplots(nrows, ncols, figsize=(plotsize * ncols, plotsize * nrows))\n",
    "\n",
    "for j in range(ncols):\n",
    "    ax[0, j].set_title(f\"Sample {j}'s\")\n",
    "    for i in range(nrows):\n",
    "        _ax = ax[i, j]\n",
    "        data = X_hat[i, j]\n",
    "        _ax.scatter(data[:, 0], -data[:, 1])\n",
    "        # _ax.set_xticks([])\n",
    "        # _ax.set_yticks([])\n",
    "\n",
    "plt.tight_layout()\n",
    "plt.show()"
   ]
  },
  {
   "cell_type": "code",
   "execution_count": null,
   "metadata": {},
   "outputs": [],
   "source": []
  }
 ],
 "metadata": {
  "kernelspec": {
   "display_name": "Python 3",
   "language": "python",
   "name": "python3"
  },
  "language_info": {
   "codemirror_mode": {
    "name": "ipython",
    "version": 3
   },
   "file_extension": ".py",
   "mimetype": "text/x-python",
   "name": "python",
   "nbconvert_exporter": "python",
   "pygments_lexer": "ipython3",
   "version": "3.12.1"
  }
 },
 "nbformat": 4,
 "nbformat_minor": 2
}
