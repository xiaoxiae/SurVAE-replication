{
 "cells": [
  {
   "cell_type": "code",
   "execution_count": 2,
   "metadata": {},
   "outputs": [],
   "source": [
    "from survae.data import *\n",
    "from survae.layer import *\n",
    "from survae.plot import *\n",
    "from survae.train import *"
   ]
  },
  {
   "cell_type": "code",
   "execution_count": 3,
   "metadata": {},
   "outputs": [],
   "source": [
    "middle_abs_model_generators = [\n",
    "    lambda: SurVAE(\n",
    "        [\n",
    "            [BijectiveLayer(2, [64] * 5), OrthonormalLayer(2)]\n",
    "            for _ in range(5)\n",
    "        ] + [\n",
    "            AbsoluteUnit(torch.tensor([1 / 2, 1 / 2])),\n",
    "        ] + [\n",
    "            [BijectiveLayer(2, [64] * 5), OrthonormalLayer(2)]\n",
    "            for _ in range(5)\n",
    "        ],\n",
    "        name=\"NF-middle-abs\",\n",
    "    ),\n",
    "    lambda: SurVAE(\n",
    "        [\n",
    "            [BijectiveLayer(2, [64] * 5), OrthonormalLayer(2)]\n",
    "            for _ in range(5)\n",
    "        ] + [\n",
    "            AbsoluteUnit(torch.tensor([1 / 2, 1 / 2]), learn_q=True),\n",
    "        ] + [\n",
    "            [BijectiveLayer(2, [64] * 5), OrthonormalLayer(2)]\n",
    "            for _ in range(5)\n",
    "        ],\n",
    "        name=\"NF-middle-abs-learned_q\",\n",
    "    )\n",
    "]"
   ]
  },
  {
   "cell_type": "code",
   "execution_count": 4,
   "metadata": {},
   "outputs": [],
   "source": [
    "datasets = [Ngon(), Circles(), Corners(), Checkerboard()]"
   ]
  },
  {
   "cell_type": "code",
   "execution_count": 5,
   "metadata": {},
   "outputs": [
    {
     "name": "stderr",
     "output_type": "stream",
     "text": [
      "100%|██████████| 8/8 [01:30<00:00, 11.34s/it]\n"
     ]
    }
   ],
   "source": [
    "models = train_models(middle_abs_model_generators, datasets, epochs=100)"
   ]
  },
  {
   "cell_type": "code",
   "execution_count": 32,
   "metadata": {},
   "outputs": [],
   "source": [
    "n_models = len(models)\n",
    "n_cols = 2  # set manually\n",
    "n_rows = n_models // n_cols\n",
    "\n",
    "axis_len = 10  # sample length for axis visualization\n",
    "axis_n_samples = 10_000  # number of samples per axis\n",
    "distr_n_samples = 10_000  # number of samples for distribution"
   ]
  },
  {
   "cell_type": "code",
   "execution_count": 36,
   "metadata": {},
   "outputs": [
    {
     "data": {
      "image/png": "[encoded data removed]",
      "text/plain": [
       "<Figure size 400x800 with 8 Axes>"
      ]
     },
     "metadata": {},
     "output_type": "display_data"
    }
   ],
   "source": [
    "keys = models.keys()\n",
    "\n",
    "fig, ax = plt.subplots(n_rows, n_cols, figsize=(n_cols * 2, n_rows * 2))\n",
    "\n",
    "for key in keys:\n",
    "    model = models[key][0]\n",
    "    i,j = key\n",
    "\n",
    "    \n",
    "    with torch.no_grad():\n",
    "        samples = model.sample(distr_n_samples).cpu().numpy()\n",
    "\n",
    "        _axis = torch.linspace(-axis_len, axis_len, axis_n_samples)\n",
    "        _zeros = torch.zeros(axis_n_samples)\n",
    "\n",
    "        x_axis = torch.stack((_axis, _zeros), dim=1)\n",
    "        y_axis = torch.stack((_zeros, _axis), dim=1)\n",
    "\n",
    "        for layer in reversed(model.layers[:9]):\n",
    "            x_axis = layer.backward(x_axis)\n",
    "            y_axis = layer.backward(y_axis)\n",
    "\n",
    "    x_axis = x_axis.cpu()\n",
    "    y_axis = y_axis.cpu()\n",
    "    \n",
    "    _ax = ax[i,j]\n",
    "\n",
    "    _ax.hist2d(samples[:, 0], samples[:, 1], bins=100)\n",
    "    _ax.scatter(x_axis[:, 0], x_axis[:, 1], s=1, c=\"red\")\n",
    "    _ax.scatter(y_axis[:, 0], y_axis[:, 1], s=1, c=\"yellow\")\n",
    "\n",
    "    _ax.set_xlim(-2.5, 2.5)\n",
    "    _ax.set_ylim(-2.5, 2.5)\n",
    "    _ax.set_aspect(\"equal\")\n",
    "\n",
    "    _ax.set_xticks([])\n",
    "    _ax.set_yticks([])\n",
    "plt.tight_layout()\n",
    "plt.show()"
   ]
  },
  {
   "cell_type": "code",
   "execution_count": null,
   "metadata": {},
   "outputs": [],
   "source": []
  }
 ],
 "metadata": {
  "kernelspec": {
   "display_name": "Python 3",
   "language": "python",
   "name": "python3"
  },
  "language_info": {
   "codemirror_mode": {
    "name": "ipython",
    "version": 3
   },
   "file_extension": ".py",
   "mimetype": "text/x-python",
   "name": "python",
   "nbconvert_exporter": "python",
   "pygments_lexer": "ipython3",
   "version": "3.10.12"
  }
 },
 "nbformat": 4,
 "nbformat_minor": 2
}
